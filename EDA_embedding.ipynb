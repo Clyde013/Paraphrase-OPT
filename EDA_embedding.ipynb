{
 "cells": [
  {
   "cell_type": "code",
   "execution_count": 2,
   "id": "b7e011c3-5eb8-454e-b54e-24f5b96bf80c",
   "metadata": {
    "pycharm": {
     "name": "#%%\n"
    }
   },
   "outputs": [],
   "source": [
    "import tmap as tm\n",
    "import torch\n",
    "import time\n",
    "import numpy as np\n",
    "from numpy.random import RandomState\n",
    "import pandas as pd\n",
    "import re\n",
    "\n",
    "import graphistry\n",
    "\n",
    "import os\n",
    "from dotenv import load_dotenv\n",
    "load_dotenv()  # take environment variables from .env.\n",
    "\n",
    "from pyvis import network as net\n",
    "import networkx as nx\n",
    "from sklearn import manifold\n",
    "from sklearn.decomposition import PCA\n",
    "\n",
    "%matplotlib inline\n",
    "import matplotlib.pyplot as plt\n",
    "from matplotlib import ticker\n",
    "plt.rcParams['figure.figsize'] = [20, 20]"
   ]
  },
  {
   "cell_type": "code",
   "execution_count": 3,
   "id": "8e0a7d83-dfc6-45ac-9cfa-b02e4bd401e6",
   "metadata": {
    "pycharm": {
     "name": "#%%\n"
    }
   },
   "outputs": [],
   "source": [
    "graphistry.register(api=3, protocol=\"https\", server=\"hub.graphistry.com\", username=os.environ['GRAPHISTRY_USERNAME'], password=os.environ['GRAPHISTRY_PASSWORD'])"
   ]
  },
  {
   "cell_type": "code",
   "execution_count": 4,
   "id": "946c923d-2778-400b-a80b-4f4bf3d1344b",
   "metadata": {
    "pycharm": {
     "name": "#%%\n"
    }
   },
   "outputs": [],
   "source": [
    "import wandb\n",
    "from transformers import GPT2Tokenizer\n",
    "from soft_prompt_tuning.soft_prompt_opt import ParaphraseOPT"
   ]
  },
  {
   "cell_type": "markdown",
   "id": "c88b40fa-726c-4062-95d6-3f14fc4cc60d",
   "metadata": {
    "pycharm": {
     "name": "#%% md\n"
    }
   },
   "source": [
    "# Init embedding space"
   ]
  },
  {
   "cell_type": "code",
   "execution_count": 5,
   "id": "24cd0cac-59b8-4d04-9b8a-32e1eef717c3",
   "metadata": {
    "pycharm": {
     "name": "#%%\n"
    }
   },
   "outputs": [
    {
     "name": "stderr",
     "output_type": "stream",
     "text": [
      "\u001B[34m\u001B[1mwandb\u001B[0m: Currently logged in as: \u001B[33mclyde013\u001B[0m. Use \u001B[1m`wandb login --relogin`\u001B[0m to force relogin\n"
     ]
    },
    {
     "data": {
      "text/html": [
       "wandb version 0.12.18 is available!  To upgrade, please run:\n",
       " $ pip install wandb --upgrade"
      ],
      "text/plain": [
       "<IPython.core.display.HTML object>"
      ]
     },
     "metadata": {},
     "output_type": "display_data"
    },
    {
     "data": {
      "text/html": [
       "Tracking run with wandb version 0.12.17"
      ],
      "text/plain": [
       "<IPython.core.display.HTML object>"
      ]
     },
     "metadata": {},
     "output_type": "display_data"
    },
    {
     "data": {
      "text/html": [
       "Run data is saved locally in <code>C:\\Users\\weipy\\OneDrive\\Documents\\GitHub\\Paraphrase-OPT\\wandb\\run-20220622_165114-37zd2lmm</code>"
      ],
      "text/plain": [
       "<IPython.core.display.HTML object>"
      ]
     },
     "metadata": {},
     "output_type": "display_data"
    },
    {
     "data": {
      "text/html": [
       "Syncing run <strong><a href=\"https://wandb.ai/clyde013/test-popt-dump/runs/37zd2lmm\" target=\"_blank\">test-model</a></strong> to <a href=\"https://wandb.ai/clyde013/test-popt-dump\" target=\"_blank\">Weights & Biases</a> (<a href=\"https://wandb.me/run\" target=\"_blank\">docs</a>)<br/>"
      ],
      "text/plain": [
       "<IPython.core.display.HTML object>"
      ]
     },
     "metadata": {},
     "output_type": "display_data"
    },
    {
     "data": {
      "application/vnd.jupyter.widget-view+json": {
       "model_id": "206dd6934b3d4b8eb1bccf0b165b39c2",
       "version_major": 2,
       "version_minor": 0
      },
      "text/plain": [
       "Downloading:   0%|          | 0.00/653 [00:00<?, ?B/s]"
      ]
     },
     "metadata": {},
     "output_type": "display_data"
    },
    {
     "data": {
      "application/vnd.jupyter.widget-view+json": {
       "model_id": "c2f74430d1ce4bc09e17b7c0025d04f3",
       "version_major": 2,
       "version_minor": 0
      },
      "text/plain": [
       "Downloading:   0%|          | 0.00/2.45G [00:00<?, ?B/s]"
      ]
     },
     "metadata": {},
     "output_type": "display_data"
    },
    {
     "name": "stderr",
     "output_type": "stream",
     "text": [
      "Some weights of the model checkpoint at facebook/opt-1.3b were not used when initializing SoftOPTModelWrapper: ['model.decoder.final_layer_norm.weight', 'model.decoder.final_layer_norm.bias']\n",
      "- This IS expected if you are initializing SoftOPTModelWrapper from the checkpoint of a model trained on another task or with another architecture (e.g. initializing a BertForSequenceClassification model from a BertForPreTraining model).\n",
      "- This IS NOT expected if you are initializing SoftOPTModelWrapper from the checkpoint of a model that you expect to be exactly identical (initializing a BertForSequenceClassification model from a BertForSequenceClassification model).\n",
      "Some weights of the model checkpoint at facebook/opt-1.3b were not used when initializing SoftOPTModelWrapper: ['model.decoder.final_layer_norm.weight', 'model.decoder.final_layer_norm.bias']\n",
      "- This IS expected if you are initializing SoftOPTModelWrapper from the checkpoint of a model trained on another task or with another architecture (e.g. initializing a BertForSequenceClassification model from a BertForPreTraining model).\n",
      "- This IS NOT expected if you are initializing SoftOPTModelWrapper from the checkpoint of a model that you expect to be exactly identical (initializing a BertForSequenceClassification model from a BertForSequenceClassification model).\n"
     ]
    }
   ],
   "source": [
    "wandb.init(project=\"test-popt-dump\", entity=\"clyde013\", name=\"test-model\", allow_val_change=True)\n",
    "wandb.config.update({\"embedding_n_tokens\": 111}, allow_val_change=True)\n",
    "\n",
    "#checkpoint = r\"training_checkpoints/30-05-2022-1.3b/soft-opt-epoch=179-val_loss=1.397.ckpt\"\n",
    "checkpoint_111 = r\"training_checkpoints/optimize/soft-opt-epoch=029-val_loss=0.487-optimizer_type=Adam-embedding_n_tokens=111.ckpt\"\n",
    "checkpoint_59 = r\"training_checkpoints/optimize/soft-opt-epoch=029-val_loss=0.793-optimizer_type=Adam-embedding_n_tokens=59.ckpt\"\n",
    "model_name = \"facebook/opt-1.3b\"\n",
    "\n",
    "torch.cuda.empty_cache()\n",
    "\n",
    "AVAIL_GPUS = min(1, torch.cuda.device_count())\n",
    "\n",
    "model = ParaphraseOPT.load_from_custom_save(model_name, checkpoint_111)\n",
    "model = model.eval()\n",
    "learned_embeddings_111 = model.model.soft_embedding.learned_embedding.detach()\n",
    "\n",
    "wandb.config.update({\"embedding_n_tokens\": 59}, allow_val_change=True)\n",
    "model = ParaphraseOPT.load_from_custom_save(model_name, checkpoint_59)\n",
    "model = model.eval()\n",
    "learned_embeddings_59 = model.model.soft_embedding.learned_embedding.detach()\n",
    "\n",
    "# default_model = ParaphraseOPT(model_name)\n",
    "\n",
    "tokenizer = GPT2Tokenizer.from_pretrained(model_name)\n",
    "\n",
    "original_embeddings = model.model.soft_embedding.wte.weight.detach()"
   ]
  },
  {
   "cell_type": "markdown",
   "id": "6f9c4cd1",
   "metadata": {},
   "source": [
    "# PCA & TSNE Testing"
   ]
  },
  {
   "cell_type": "markdown",
   "id": "d7253fb3",
   "metadata": {},
   "source": [
    "As recommended by sklearn documentation, we first decompose the high dimensionality embeddings to a more reasonable size of 50 before running TSNE on it. TSNE however does not provide a function to fit the data and then transform any additional data fed into it like PCA does."
   ]
  },
  {
   "cell_type": "code",
   "execution_count": 6,
   "id": "82705449",
   "metadata": {},
   "outputs": [],
   "source": [
    "pca = PCA(n_components=50)\n",
    "pca.fit(original_embeddings)\n",
    "\n",
    "trans_original_embeddings = pca.transform(original_embeddings)\n",
    "trans_learned_embeddings_59 = pca.transform(learned_embeddings_59)\n",
    "trans_learned_embeddings_111 = pca.transform(learned_embeddings_111)"
   ]
  },
  {
   "cell_type": "code",
   "execution_count": 10,
   "id": "33112120",
   "metadata": {},
   "outputs": [
    {
     "data": {
      "text/plain": [
       "((50272, 50), (111, 50), (59, 50))"
      ]
     },
     "execution_count": 10,
     "metadata": {},
     "output_type": "execute_result"
    }
   ],
   "source": [
    "trans_original_embeddings.shape, trans_learned_embeddings_111.shape, trans_learned_embeddings_59.shape"
   ]
  },
  {
   "cell_type": "code",
   "execution_count": 18,
   "id": "a25de5be",
   "metadata": {},
   "outputs": [],
   "source": [
    "concat_embeddings = np.concatenate([trans_original_embeddings, trans_learned_embeddings_59, trans_learned_embeddings_111])"
   ]
  },
  {
   "cell_type": "code",
   "execution_count": 19,
   "id": "11fb2c0c",
   "metadata": {},
   "outputs": [
    {
     "data": {
      "text/plain": [
       "(50442, 2)"
      ]
     },
     "execution_count": 19,
     "metadata": {},
     "output_type": "execute_result"
    }
   ],
   "source": [
    "tsne = manifold.TSNE(n_components=2, learning_rate='auto', init='pca')\n",
    "embedded = tsne.fit_transform(concat_embeddings)\n",
    "embedded.shape"
   ]
  },
  {
   "cell_type": "code",
   "execution_count": 33,
   "id": "f04911a8",
   "metadata": {},
   "outputs": [
    {
     "data": {
      "text/html": [
       "<div>\n",
       "<style scoped>\n",
       "    .dataframe tbody tr th:only-of-type {\n",
       "        vertical-align: middle;\n",
       "    }\n",
       "\n",
       "    .dataframe tbody tr th {\n",
       "        vertical-align: top;\n",
       "    }\n",
       "\n",
       "    .dataframe thead th {\n",
       "        text-align: right;\n",
       "    }\n",
       "</style>\n",
       "<table border=\"1\" class=\"dataframe\">\n",
       "  <thead>\n",
       "    <tr style=\"text-align: right;\">\n",
       "      <th></th>\n",
       "      <th>index</th>\n",
       "      <th>x</th>\n",
       "      <th>y</th>\n",
       "      <th>title</th>\n",
       "    </tr>\n",
       "  </thead>\n",
       "  <tbody>\n",
       "    <tr>\n",
       "      <th>0</th>\n",
       "      <td>0</td>\n",
       "      <td>0.516557</td>\n",
       "      <td>87.041412</td>\n",
       "      <td>0</td>\n",
       "    </tr>\n",
       "    <tr>\n",
       "      <th>1</th>\n",
       "      <td>1</td>\n",
       "      <td>1.971469</td>\n",
       "      <td>80.593559</td>\n",
       "      <td>0</td>\n",
       "    </tr>\n",
       "    <tr>\n",
       "      <th>2</th>\n",
       "      <td>2</td>\n",
       "      <td>70.881744</td>\n",
       "      <td>-50.733025</td>\n",
       "      <td>0</td>\n",
       "    </tr>\n",
       "    <tr>\n",
       "      <th>3</th>\n",
       "      <td>3</td>\n",
       "      <td>1.032740</td>\n",
       "      <td>87.292603</td>\n",
       "      <td>0</td>\n",
       "    </tr>\n",
       "    <tr>\n",
       "      <th>4</th>\n",
       "      <td>4</td>\n",
       "      <td>73.105972</td>\n",
       "      <td>-49.037640</td>\n",
       "      <td>0</td>\n",
       "    </tr>\n",
       "    <tr>\n",
       "      <th>...</th>\n",
       "      <td>...</td>\n",
       "      <td>...</td>\n",
       "      <td>...</td>\n",
       "      <td>...</td>\n",
       "    </tr>\n",
       "    <tr>\n",
       "      <th>50437</th>\n",
       "      <td>50437</td>\n",
       "      <td>75.097878</td>\n",
       "      <td>-53.299850</td>\n",
       "      <td>2</td>\n",
       "    </tr>\n",
       "    <tr>\n",
       "      <th>50438</th>\n",
       "      <td>50438</td>\n",
       "      <td>53.052044</td>\n",
       "      <td>69.566902</td>\n",
       "      <td>2</td>\n",
       "    </tr>\n",
       "    <tr>\n",
       "      <th>50439</th>\n",
       "      <td>50439</td>\n",
       "      <td>73.531258</td>\n",
       "      <td>-49.463772</td>\n",
       "      <td>2</td>\n",
       "    </tr>\n",
       "    <tr>\n",
       "      <th>50440</th>\n",
       "      <td>50440</td>\n",
       "      <td>46.075760</td>\n",
       "      <td>54.189522</td>\n",
       "      <td>2</td>\n",
       "    </tr>\n",
       "    <tr>\n",
       "      <th>50441</th>\n",
       "      <td>50441</td>\n",
       "      <td>73.672615</td>\n",
       "      <td>-47.943157</td>\n",
       "      <td>2</td>\n",
       "    </tr>\n",
       "  </tbody>\n",
       "</table>\n",
       "<p>50442 rows × 4 columns</p>\n",
       "</div>"
      ],
      "text/plain": [
       "       index          x          y  title\n",
       "0          0   0.516557  87.041412      0\n",
       "1          1   1.971469  80.593559      0\n",
       "2          2  70.881744 -50.733025      0\n",
       "3          3   1.032740  87.292603      0\n",
       "4          4  73.105972 -49.037640      0\n",
       "...      ...        ...        ...    ...\n",
       "50437  50437  75.097878 -53.299850      2\n",
       "50438  50438  53.052044  69.566902      2\n",
       "50439  50439  73.531258 -49.463772      2\n",
       "50440  50440  46.075760  54.189522      2\n",
       "50441  50441  73.672615 -47.943157      2\n",
       "\n",
       "[50442 rows x 4 columns]"
      ]
     },
     "execution_count": 33,
     "metadata": {},
     "output_type": "execute_result"
    }
   ],
   "source": [
    "df = pd.DataFrame(embedded, columns=['x', 'y']).reset_index()\n",
    "df[\"title\"] = np.concatenate([np.zeros(50272), np.ones(111), np.full(59, 2)])\n",
    "df[\"title\"] = df[\"title\"].astype(int)\n",
    "df"
   ]
  },
  {
   "cell_type": "code",
   "execution_count": 34,
   "id": "b0e899b1",
   "metadata": {},
   "outputs": [
    {
     "data": {
      "text/html": [
       "<div>\n",
       "<style scoped>\n",
       "    .dataframe tbody tr th:only-of-type {\n",
       "        vertical-align: middle;\n",
       "    }\n",
       "\n",
       "    .dataframe tbody tr th {\n",
       "        vertical-align: top;\n",
       "    }\n",
       "\n",
       "    .dataframe thead th {\n",
       "        text-align: right;\n",
       "    }\n",
       "</style>\n",
       "<table border=\"1\" class=\"dataframe\">\n",
       "  <thead>\n",
       "    <tr style=\"text-align: right;\">\n",
       "      <th></th>\n",
       "      <th>source</th>\n",
       "      <th>target</th>\n",
       "    </tr>\n",
       "  </thead>\n",
       "  <tbody>\n",
       "    <tr>\n",
       "      <th>0</th>\n",
       "      <td>0</td>\n",
       "      <td>0</td>\n",
       "    </tr>\n",
       "  </tbody>\n",
       "</table>\n",
       "</div>"
      ],
      "text/plain": [
       "   source  target\n",
       "0       0       0"
      ]
     },
     "execution_count": 34,
     "metadata": {},
     "output_type": "execute_result"
    }
   ],
   "source": [
    "df_edges = pd.DataFrame({'source':[0], 'target':[0]})\n",
    "df_edges"
   ]
  },
  {
   "cell_type": "code",
   "execution_count": 35,
   "id": "9c922176",
   "metadata": {},
   "outputs": [
    {
     "data": {
      "text/html": [
       "\n",
       "            <iframe id=\"b311d1fa-d734-4697-8936-aca2f5b3840e\" src=\"https://hub.graphistry.com/graph/graph.html?dataset=98887b9ca40b4ef3b30a52c2f09cc5f3&type=arrow&viztoken=ba41125d-dc6f-43c9-80bd-883961d6309e&usertag=724ee53a-pygraphistry-0.25.2&splashAfter=1655889948&info=False&play=0&menu=True&showArrows=False&pointSize=0.07&edgeCurvature=0.01&edgeSize=1.0&edgeOpacity=0.5&pointOpacity=0.9&lockedX=True&lockedY=True&lockedR=False&linLog=False&strongGravity=False&dissuadeHubs=False&edgeInfluence=1.0&precisionVsSpeed=1.0&gravity=1.0&scalingRatio=0.5&showLabels=True&showLabelOnHover=True&showPointsOfInterest=False&showPointsOfInterestLabel=False&showLabelPropertiesOnHover=True&pointsOfInterestMax=0\"\n",
       "                    allowfullscreen=\"true\" webkitallowfullscreen=\"true\" mozallowfullscreen=\"true\"\n",
       "                    oallowfullscreen=\"true\" msallowfullscreen=\"true\"\n",
       "                    style=\"width:100%; height:500px; border: 1px solid #DDD; overflow: hidden\"\n",
       "                    \n",
       "            >\n",
       "            </iframe>\n",
       "        \n",
       "            <script>\n",
       "                try {\n",
       "                  $(\"#b311d1fa-d734-4697-8936-aca2f5b3840e\").bind('mousewheel', function(e) { e.preventDefault(); });\n",
       "                } catch (e) { console.error('exn catching scroll', e); }\n",
       "            </script>\n",
       "        "
      ],
      "text/plain": [
       "<IPython.core.display.HTML object>"
      ]
     },
     "execution_count": 35,
     "metadata": {},
     "output_type": "execute_result"
    }
   ],
   "source": [
    "graph = graphistry.bind(source=\"source\", destination=\"target\", point_x=\"x\", point_y=\"y\", point_title=\"index\")\n",
    "graph = graph.edges(df_edges).nodes(df, 'index')\n",
    "graph = graph.encode_point_color('title', categorical_mapping={'0': '#ff9999', '2': '#99F', '1': '#32a834'}, default_mapping='silver')\n",
    "graph = graph.encode_point_size('title', categorical_mapping={'0': 1, '2': 3, '1': 3}, default_mapping=1)\n",
    "graph = graph.settings(url_params={\n",
    "      'play': 0,\n",
    "      'menu': True, 'info': False,\n",
    "      'showArrows': False,\n",
    "      'pointSize': 0.07, 'edgeCurvature': 0.01, 'edgeSize': 1.0,\n",
    "      'edgeOpacity': 0.5, 'pointOpacity': 0.9,\n",
    "      'lockedX': True, 'lockedY': True, 'lockedR': False,\n",
    "      'linLog': False, 'strongGravity': False, 'dissuadeHubs': False,\n",
    "      'edgeInfluence': 1.0, 'precisionVsSpeed': 1.0, 'gravity': 1.0, 'scalingRatio': 0.5,\n",
    "      'showLabels': True, 'showLabelOnHover': True,\n",
    "      'showPointsOfInterest': False, 'showPointsOfInterestLabel': False, 'showLabelPropertiesOnHover': True,\n",
    "      'pointsOfInterestMax': 0\n",
    "    })\n",
    "graph.plot()"
   ]
  },
  {
   "cell_type": "markdown",
   "id": "664a18b2-d868-42d6-a4c4-5370933b0017",
   "metadata": {
    "pycharm": {
     "name": "#%% md\n"
    }
   },
   "source": [
    "The inconsistencies in the relative positions of the embedding points could be attributed to phase 4 in the tmap algorithm described [here](https://jcheminf.biomedcentral.com/articles/10.1186/s13321-020-0416-x#Sec2). They conduct kruskal's to get a constructed MST tree, reducing computation times by large margins, before using a spring based graph layout alogrithm (probably the Fruchterman-Reingold force-directed algorithm) to plot out the points. But the tradeoff is that if points are not connected on the MST then their relative distances are not accounted for when placing points on the graph, only the neighbours. While this *might* yield multiple locally optimal solutions, it is possible that relative distances between global clusters of points are not accounted for, resulting in vastly different positionings of embedding points. While their neighbours might always be close together no matter the random initialisation, their global position might vary, as there is no way to solve for a deterministic solution without the connections of a fully connected graph (which is too expensive to compute)."
   ]
  },
  {
   "cell_type": "markdown",
   "id": "00b35fad-f581-47d6-837a-7d784d39b5ec",
   "metadata": {
    "pycharm": {
     "name": "#%% md\n"
    }
   },
   "source": [
    "Have to create both an MST and the complete graph. We have 2 options:\n",
    "1. using the weights of the complete graph to generate a layout and then only plotting the MST's edge connections (very computationally expensive)\n",
    "1. following the original paper implementation of using MST for both layout generation and plotting edge connections.\n",
    "\n",
    "When using `spring_connection` we have to invert the edge weights as the edge weights become spring attractive coefficients, whereas in other layouts such as `kamada_kawai` edge weights are used as cost functions."
   ]
  },
  {
   "cell_type": "markdown",
   "id": "efd85838-5dd4-4dde-954c-56ae15f2623f",
   "metadata": {
    "pycharm": {
     "name": "#%% md\n"
    }
   },
   "source": [
    "# Custom class"
   ]
  },
  {
   "cell_type": "markdown",
   "id": "612cc3fc-57d7-4171-adb2-a68627c4a190",
   "metadata": {
    "pycharm": {
     "name": "#%% md\n"
    }
   },
   "source": [
    "Create a custom class to deal with visualisations. Should be able to initialise from a model's fixed embeddings. Then in the init function construct a minhash encoder and lsh forest (with a seed), and then using the lsh forest create an initial MST use the networkx layouts to find the x, y positions, then use those as anchor points. Should then be able to take in inputs of learned embeddings with another function, and then using `query linear scan` find the closest neighbours of all the passed in learned embeddings, from there add the points to the MST, either without trying to form another MST (just leave knn connections) or find a locally optimal MST solution. Output graphs should ideally be pyvis networks as they allow for interactive visualisations."
   ]
  },
  {
   "cell_type": "code",
   "execution_count": null,
   "id": "11cd1a62",
   "metadata": {
    "pycharm": {
     "name": "#%%\n"
    }
   },
   "outputs": [],
   "source": [
    "class vis():    \n",
    "    def __init__(self, fixed_embeddings, dims:int=512, load_path:str=None, save_path:str=r\"visualisations/vis_lf_fixed.dat\", seed:int=69, verbose:bool=True):\n",
    "        if verbose: print(\"seeding...\")\n",
    "        self.seed = seed\n",
    "        np.random.seed(self.seed)\n",
    "        \n",
    "        self.fixed_embeddings = fixed_embeddings\n",
    "        self.enc = tm.Minhash(self.fixed_embeddings.size(dim=1), seed=self.seed, sample_size=dims)\n",
    "        self.lf = tm.LSHForest(dims * 2, 128)\n",
    "        \n",
    "        # init the LSHForest\n",
    "        if load_path is None:\n",
    "            tmp = []\n",
    "            if verbose: print(\"batch add and indexing...\")\n",
    "            for i in fixed_embeddings:\n",
    "                tmp.append(tm.VectorFloat(i.tolist()))\n",
    "            self.lf.batch_add(self.enc.batch_from_weight_array(tmp))\n",
    "            self.lf.index()\n",
    "            self.lf.store(save_path)\n",
    "        else:\n",
    "            if verbose: print(f\"loading from {load_path}...\")\n",
    "            self.lf.restore(load_path)\n",
    "            \n",
    "        # Construct the k-nearest neighbour graph\n",
    "        if verbose: print(\"Getting KNN graph...\")\n",
    "        knng_from = tm.VectorUint()\n",
    "        knng_to = tm.VectorUint()\n",
    "        knng_weight = tm.VectorFloat()\n",
    "        _ = self.lf.get_knn_graph(knng_from, knng_to, knng_weight, 10)        \n",
    "\n",
    "        # find the MST of the knn graph\n",
    "        if verbose: print(\"Finding MST...\")\n",
    "        self.g_mst = self.create_mst([i for i in zip(knng_from, knng_to, knng_weight) if i[0] != i[1]])\n",
    "\n",
    "        # find x, y positions of the fixed embeddings layout\n",
    "        if verbose: print(\"Generating layout...\")\n",
    "        self.pos = nx.nx_agraph.graphviz_layout(self.g_mst, prog=\"sfdp\")\n",
    "        self.fixed = list(self.pos.keys())\n",
    "    \n",
    "    def graph_learned_embeddings(self, learned_embeddings, type_str:str, g: nx.Graph=None):\n",
    "        # create deepcopy of g_mst\n",
    "        if g is None:\n",
    "            g = nx.Graph(self.g_mst)\n",
    "        # index to begin from (since indexes are 0 indexed we start from len)\n",
    "        index = len(g)\n",
    "        for i in learned_embeddings:\n",
    "            query_hash = self.enc.from_weight_array(tm.VectorFloat(i.tolist()))\n",
    "            # query_linear_scan returns list of tuples(weight, neighbour). invert the weights because spring layout.\n",
    "            scan = self.lf.query_linear_scan(query_hash, 1)[0]\n",
    "            g.add_edge(index, scan[1], weight=1-scan[0])\n",
    "            g.nodes[index]['type_str'] = type_str\n",
    "            index += 1\n",
    "        \n",
    "        return g\n",
    "            \n",
    "    # kruskals algorithm for finding MST\n",
    "    def create_mst(self, edgelist):\n",
    "        self.par = [i for i in range(0, self.fixed_embeddings.size(dim=0)+1)]\n",
    "        self.rnk = [0 for i in range(0, self.fixed_embeddings.size(dim=0)+1)]\n",
    "        edges = sorted(edgelist, key=lambda x:x[2])\n",
    "        g_mst = nx.Graph()\n",
    "\n",
    "        for edge in edges:\n",
    "            x = edge[0]\n",
    "            y = edge[1]\n",
    "\n",
    "            if self._find_par(x) != self._find_par(y):\n",
    "                # append edge to the mst. invert the weights because spring layout.\n",
    "                g_mst.add_edge(edge[0], edge[1], weight=edge[2])\n",
    "                self._join(x, y)\n",
    "\n",
    "        return g_mst\n",
    "    \n",
    "    def _find_par(self, i):\n",
    "        if self.par[i] == i:\n",
    "            return i\n",
    "        self.par[i] = self._find_par(self.par[i])\n",
    "        return self.par[i]\n",
    "\n",
    "    def _join(self, x, y):\n",
    "        x = self._find_par(x)\n",
    "        y = self._find_par(y)\n",
    "        if x == y:\n",
    "            return\n",
    "        if self.rnk[x] < self.rnk[y]:\n",
    "            self.par[x] = y\n",
    "        else:\n",
    "            self.par[y] = x\n",
    "        if self.rnk[x] == self.rnk[y]:\n",
    "            self.rnk[x] += 1"
   ]
  },
  {
   "cell_type": "code",
   "execution_count": null,
   "id": "d789c0b1",
   "metadata": {
    "pycharm": {
     "name": "#%%\n"
    }
   },
   "outputs": [],
   "source": [
    "visualisation = vis(original_embeddings, load_path=r\"visualisations/vis_lf_fixed.dat\")"
   ]
  },
  {
   "cell_type": "code",
   "execution_count": null,
   "id": "62303dfd",
   "metadata": {
    "pycharm": {
     "name": "#%%\n"
    }
   },
   "outputs": [],
   "source": [
    "g = visualisation.graph_learned_embeddings(learned_embeddings_111, \"111\")\n",
    "g = visualisation.graph_learned_embeddings(learned_embeddings_59, \"59\", g)\n",
    "pos = nx.spring_layout(g, fixed=visualisation.g_mst.nodes, pos=visualisation.pos, k=0.0001)\n",
    "\n",
    "mapping = {v: re.sub(r'(\\\\xc4|\\\\xa0)|[\\'\\\"\\\\]', '', repr(k.encode(\"utf-8\"))[2:-1]) for k, v in tokenizer.get_vocab().items()}\n",
    "\n",
    "for n, p in pos.items():\n",
    "    g.nodes[n]['x'] = float(p[0])\n",
    "    g.nodes[n]['y'] = float(p[1])\n",
    "    # there are some unreachable tokens as the tokenizer's vocab size does not match that of the config\n",
    "    g.nodes[n]['title'] = mapping[n] if n < len(tokenizer) else f\"learned embedding {n-len(visualisation.g_mst.nodes)}\"\n",
    "    # denote learned vs fixed embeddings\n",
    "    if n < len(visualisation.g_mst.nodes):\n",
    "        g.nodes[n]['type_str'] = 'F'"
   ]
  },
  {
   "cell_type": "markdown",
   "id": "016f5aaa",
   "metadata": {
    "pycharm": {
     "name": "#%% md\n"
    }
   },
   "source": [
    "I really cannot tell if the bugginess comes from networkx integration with graphistry or what, so to be safe everything is being converted to pandas dataframes and fed in that way, which has actual documentation support."
   ]
  },
  {
   "cell_type": "code",
   "execution_count": null,
   "id": "da9d1479",
   "metadata": {
    "pycharm": {
     "name": "#%%\n"
    }
   },
   "outputs": [],
   "source": [
    "edges = nx.to_pandas_edgelist(g)\n",
    "nodes = pd.DataFrame.from_dict(dict(g.nodes(data=True)), orient='index').reset_index(level=0)\n",
    "nodes"
   ]
  },
  {
   "cell_type": "code",
   "execution_count": null,
   "id": "cf3f27ec",
   "metadata": {
    "pycharm": {
     "name": "#%%\n"
    }
   },
   "outputs": [],
   "source": [
    "graph = graphistry.bind(source='source', destination='target', point_x=\"x\", point_y=\"y\", point_title=\"title\")\n",
    "graph = graph.edges(edges).nodes(nodes, 'index')\n",
    "graph = graph.encode_point_color('type_str', categorical_mapping={'F': '#ff9999', '59': '#99F', '111': '#32a834'}, default_mapping='silver')\n",
    "graph = graph.encode_point_size('type_str', categorical_mapping={'F': 1, '59': 3, '111': 3}, default_mapping=1)\n",
    "graph = graph.settings(url_params={\n",
    "      'play': 0,\n",
    "      'menu': True, 'info': False,\n",
    "      'showArrows': False,\n",
    "      'pointSize': 0.07, 'edgeCurvature': 0.01, 'edgeSize': 1.0,\n",
    "      'edgeOpacity': 0.5, 'pointOpacity': 0.9,\n",
    "      'lockedX': True, 'lockedY': True, 'lockedR': False,\n",
    "      'linLog': False, 'strongGravity': False, 'dissuadeHubs': False,\n",
    "      'edgeInfluence': 1.0, 'precisionVsSpeed': 1.0, 'gravity': 1.0, 'scalingRatio': 0.5,\n",
    "      'showLabels': True, 'showLabelOnHover': True,\n",
    "      'showPointsOfInterest': False, 'showPointsOfInterestLabel': False, 'showLabelPropertiesOnHover': True,\n",
    "      'pointsOfInterestMax': 0\n",
    "    })\n",
    "graph.plot()"
   ]
  },
  {
   "cell_type": "code",
   "execution_count": 85,
   "id": "b876e78c-732b-4943-a170-741dbeb792d1",
   "metadata": {
    "pycharm": {
     "name": "#%%\n"
    },
    "scrolled": false,
    "tags": []
   },
   "outputs": [
    {
     "data": {
      "text/html": [
       "\n",
       "            <iframe id=\"1d6c989f-5626-4fb7-a4fe-0dc602ea498a\" src=\"https://hub.graphistry.com/graph/graph.html?dataset=05a0c49697bd4a5ebe88c624d709d87f&type=arrow&viztoken=ef9f168c-329f-4935-b11d-70d46f90dfa3&usertag=724ee53a-pygraphistry-0.25.2&splashAfter=1655787823&info=False&play=0&menu=True&showArrows=False&pointSize=0.07&edgeCurvature=0.01&edgeSize=1.0&edgeOpacity=0.5&pointOpacity=0.9&lockedX=True&lockedY=True&lockedR=False&linLog=False&strongGravity=False&dissuadeHubs=False&edgeInfluence=1.0&precisionVsSpeed=1.0&gravity=1.0&scalingRatio=0.5&showLabels=True&showLabelOnHover=True&showPointsOfInterest=False&showPointsOfInterestLabel=False&showLabelPropertiesOnHover=True&pointsOfInterestMax=0\"\n",
       "                    allowfullscreen=\"true\" webkitallowfullscreen=\"true\" mozallowfullscreen=\"true\"\n",
       "                    oallowfullscreen=\"true\" msallowfullscreen=\"true\"\n",
       "                    style=\"width:100%; height:500px; border: 1px solid #DDD; overflow: hidden\"\n",
       "                    \n",
       "            >\n",
       "            </iframe>\n",
       "        \n",
       "            <script>\n",
       "                try {\n",
       "                  $(\"#1d6c989f-5626-4fb7-a4fe-0dc602ea498a\").bind('mousewheel', function(e) { e.preventDefault(); });\n",
       "                } catch (e) { console.error('exn catching scroll', e); }\n",
       "            </script>\n",
       "        "
      ],
      "text/plain": [
       "<IPython.core.display.HTML object>"
      ]
     },
     "execution_count": 85,
     "metadata": {},
     "output_type": "execute_result"
    }
   ],
   "source": [
    "graph = graphistry.bind(source='source', destination='target', point_x=\"x\", point_y=\"y\", point_title=\"title\")\n",
    "graph = graph.edges(edges).nodes(nodes, 'index')\n",
    "graph = graph.encode_point_color('type_str', categorical_mapping={'F': '#ff9999', '59': '#99F', '111': '#32a834'}, default_mapping='silver')\n",
    "graph = graph.encode_point_size('type_str', categorical_mapping={'F': 1, '59': 3, '111': 3}, default_mapping=1)\n",
    "graph = graph.settings(url_params={\n",
    "      'play': 0,\n",
    "      'menu': True, 'info': False,\n",
    "      'showArrows': False,\n",
    "      'pointSize': 0.07, 'edgeCurvature': 0.01, 'edgeSize': 1.0,\n",
    "      'edgeOpacity': 0.5, 'pointOpacity': 0.9,\n",
    "      'lockedX': True, 'lockedY': True, 'lockedR': False,\n",
    "      'linLog': False, 'strongGravity': False, 'dissuadeHubs': False,\n",
    "      'edgeInfluence': 1.0, 'precisionVsSpeed': 1.0, 'gravity': 1.0, 'scalingRatio': 0.5,\n",
    "      'showLabels': True, 'showLabelOnHover': True,\n",
    "      'showPointsOfInterest': False, 'showPointsOfInterestLabel': False, 'showLabelPropertiesOnHover': True,\n",
    "      'pointsOfInterestMax': 0\n",
    "    })\n",
    "graph.plot()"
   ]
  }
 ],
 "metadata": {
  "kernelspec": {
   "display_name": "Python 3 (ipykernel)",
   "language": "python",
   "name": "python3"
  },
  "language_info": {
   "codemirror_mode": {
    "name": "ipython",
    "version": 3
   },
   "file_extension": ".py",
   "mimetype": "text/x-python",
   "name": "python",
   "nbconvert_exporter": "python",
   "pygments_lexer": "ipython3",
   "version": "3.10.4"
  }
 },
 "nbformat": 4,
 "nbformat_minor": 5
}