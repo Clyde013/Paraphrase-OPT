{
 "cells": [
  {
   "cell_type": "code",
   "execution_count": 1,
   "id": "b7e011c3-5eb8-454e-b54e-24f5b96bf80c",
   "metadata": {},
   "outputs": [],
   "source": [
    "import tmap as tm\n",
    "import torch\n",
    "import time\n",
    "import numpy as np\n",
    "from numpy.random import RandomState\n",
    "import re\n",
    "\n",
    "import graphistry\n",
    "\n",
    "import os\n",
    "from dotenv import load_dotenv\n",
    "load_dotenv()  # take environment variables from .env.\n",
    "\n",
    "from pyvis import network as net\n",
    "import networkx as nx\n",
    "from sklearn import manifold\n",
    "from sklearn.decomposition import PCA\n",
    "\n",
    "%matplotlib inline\n",
    "import matplotlib.pyplot as plt\n",
    "from matplotlib import ticker\n",
    "plt.rcParams['figure.figsize'] = [20, 20]"
   ]
  },
  {
   "cell_type": "code",
   "execution_count": 2,
   "id": "8e0a7d83-dfc6-45ac-9cfa-b02e4bd401e6",
   "metadata": {},
   "outputs": [],
   "source": [
    "graphistry.register(api=3, protocol=\"https\", server=\"hub.graphistry.com\", username=os.environ['GRAPHISTRY_USERNAME'], password=os.environ['GRAPHISTRY_PASSWORD'])"
   ]
  },
  {
   "cell_type": "code",
   "execution_count": 3,
   "id": "946c923d-2778-400b-a80b-4f4bf3d1344b",
   "metadata": {},
   "outputs": [],
   "source": [
    "import wandb\n",
    "from transformers import GPT2Tokenizer\n",
    "from soft_prompt_tuning.soft_prompt_opt import ParaphraseOPT"
   ]
  },
  {
   "cell_type": "markdown",
   "id": "c88b40fa-726c-4062-95d6-3f14fc4cc60d",
   "metadata": {},
   "source": [
    "# Init embedding space"
   ]
  },
  {
   "cell_type": "code",
   "execution_count": 12,
   "id": "24cd0cac-59b8-4d04-9b8a-32e1eef717c3",
   "metadata": {},
   "outputs": [
    {
     "data": {
      "text/html": [
       "Finishing last run (ID:1peyiw02) before initializing another..."
      ],
      "text/plain": [
       "<IPython.core.display.HTML object>"
      ]
     },
     "metadata": {},
     "output_type": "display_data"
    },
    {
     "data": {
      "text/html": [
       "Waiting for W&B process to finish... <strong style=\"color:green\">(success).</strong>"
      ],
      "text/plain": [
       "<IPython.core.display.HTML object>"
      ]
     },
     "metadata": {},
     "output_type": "display_data"
    },
    {
     "data": {
      "application/vnd.jupyter.widget-view+json": {
       "model_id": "",
       "version_major": 2,
       "version_minor": 0
      },
      "text/plain": [
       "VBox(children=(Label(value='0.001 MB of 0.001 MB uploaded (0.000 MB deduped)\\r'), FloatProgress(value=1.0, max…"
      ]
     },
     "metadata": {},
     "output_type": "display_data"
    },
    {
     "data": {
      "text/html": [
       "Synced <strong style=\"color:#cdcd00\">test-model</strong>: <a href=\"https://wandb.ai/clyde013/test-popt-dump/runs/1peyiw02\" target=\"_blank\">https://wandb.ai/clyde013/test-popt-dump/runs/1peyiw02</a><br/>Synced 4 W&B file(s), 0 media file(s), 0 artifact file(s) and 0 other file(s)"
      ],
      "text/plain": [
       "<IPython.core.display.HTML object>"
      ]
     },
     "metadata": {},
     "output_type": "display_data"
    },
    {
     "data": {
      "text/html": [
       "Find logs at: <code>.\\wandb\\run-20220615_160559-1peyiw02\\logs</code>"
      ],
      "text/plain": [
       "<IPython.core.display.HTML object>"
      ]
     },
     "metadata": {},
     "output_type": "display_data"
    },
    {
     "data": {
      "text/html": [
       "Successfully finished last run (ID:1peyiw02). Initializing new run:<br/>"
      ],
      "text/plain": [
       "<IPython.core.display.HTML object>"
      ]
     },
     "metadata": {},
     "output_type": "display_data"
    },
    {
     "data": {
      "text/html": [
       "wandb version 0.12.18 is available!  To upgrade, please run:\n",
       " $ pip install wandb --upgrade"
      ],
      "text/plain": [
       "<IPython.core.display.HTML object>"
      ]
     },
     "metadata": {},
     "output_type": "display_data"
    },
    {
     "data": {
      "text/html": [
       "Tracking run with wandb version 0.12.17"
      ],
      "text/plain": [
       "<IPython.core.display.HTML object>"
      ]
     },
     "metadata": {},
     "output_type": "display_data"
    },
    {
     "data": {
      "text/html": [
       "Run data is saved locally in <code>C:\\Users\\weipy\\OneDrive\\Documents\\GitHub\\Paraphrase-OPT\\wandb\\run-20220615_160713-1jn2k2pl</code>"
      ],
      "text/plain": [
       "<IPython.core.display.HTML object>"
      ]
     },
     "metadata": {},
     "output_type": "display_data"
    },
    {
     "data": {
      "text/html": [
       "Syncing run <strong><a href=\"https://wandb.ai/clyde013/test-popt-dump/runs/1jn2k2pl\" target=\"_blank\">test-model</a></strong> to <a href=\"https://wandb.ai/clyde013/test-popt-dump\" target=\"_blank\">Weights & Biases</a> (<a href=\"https://wandb.me/run\" target=\"_blank\">docs</a>)<br/>"
      ],
      "text/plain": [
       "<IPython.core.display.HTML object>"
      ]
     },
     "metadata": {},
     "output_type": "display_data"
    }
   ],
   "source": [
    "wandb.init(project=\"test-popt-dump\", entity=\"clyde013\", name=\"test-model\", allow_val_change=True)\n",
    "wandb.config.update({\"embedding_n_tokens\": 111}, allow_val_change=True)\n",
    "\n",
    "#checkpoint = r\"training_checkpoints/30-05-2022-1.3b/soft-opt-epoch=179-val_loss=1.397.ckpt\"\n",
    "checkpoint_111 = r\"training_checkpoints/optimize/soft-opt-epoch=029-val_loss=0.487-optimizer_type=Adam-embedding_n_tokens=111.ckpt\"\n",
    "checkpoint_59 = r\"training_checkpoints/optimize/soft-opt-epoch=029-val_loss=0.793-optimizer_type=Adam-embedding_n_tokens=59.ckpt\"\n",
    "model_name = \"facebook/opt-1.3b\"\n",
    "\n",
    "torch.cuda.empty_cache()\n",
    "\n",
    "AVAIL_GPUS = min(1, torch.cuda.device_count())\n",
    "\n",
    "model = ParaphraseOPT.load_from_custom_save(model_name, checkpoint_111)\n",
    "model = model.eval()\n",
    "learned_embeddings_111 = model.model.soft_embedding.learned_embedding.detach()\n",
    "\n",
    "wandb.config.update({\"embedding_n_tokens\": 59}, allow_val_change=True)\n",
    "model = ParaphraseOPT.load_from_custom_save(model_name, checkpoint_59)\n",
    "model = model.eval()\n",
    "learned_embeddings_59 = model.model.soft_embedding.learned_embedding.detach()\n",
    "\n",
    "# default_model = ParaphraseOPT(model_name)\n",
    "\n",
    "tokenizer = GPT2Tokenizer.from_pretrained(model_name)\n",
    "\n",
    "original_embeddings = model.model.soft_embedding.wte.weight.detach()"
   ]
  },
  {
   "cell_type": "markdown",
   "id": "4664b1b2-3557-4437-8907-a37f0e1f2565",
   "metadata": {
    "jp-MarkdownHeadingCollapsed": true,
    "tags": []
   },
   "source": [
    "# TSNE"
   ]
  },
  {
   "cell_type": "code",
   "execution_count": 24,
   "id": "d36c4c24-503c-40b0-a8a2-e9f86e261c6f",
   "metadata": {},
   "outputs": [],
   "source": [
    "def add_2d_scatter(ax, points, points_color, title=None):\n",
    "    x, y = points.T\n",
    "    ax.scatter(x, y, c=points_color, s=50, alpha=0.8)\n",
    "    ax.set_title(title)\n",
    "    ax.xaxis.set_major_formatter(ticker.NullFormatter())\n",
    "    ax.yaxis.set_major_formatter(ticker.NullFormatter())\n",
    "    \n",
    "def plot_2d(points, points_color, title):\n",
    "    fig, ax = plt.subplots(figsize=(10, 10), facecolor=\"white\", constrained_layout=True)\n",
    "    fig.suptitle(title, size=16)\n",
    "    add_2d_scatter(ax, points, points_color)\n",
    "    plt.show()"
   ]
  },
  {
   "cell_type": "markdown",
   "id": "168fd098-dddc-4585-962b-d901bf000c1d",
   "metadata": {},
   "source": [
    "Determine based on [vocab_size, hidden_size] from opt1.3b config.json https://huggingface.co/facebook/opt-1.3b/blob/main/config.json"
   ]
  },
  {
   "cell_type": "code",
   "execution_count": 27,
   "id": "f1ab59b7-bc1c-48b9-bd85-50bf7da885ed",
   "metadata": {},
   "outputs": [
    {
     "name": "stdout",
     "output_type": "stream",
     "text": [
      "Fitting PCA\n",
      "Fitting TSNE\n",
      "Generating the plot took 133190.83786010742ms.\n"
     ]
    },
    {
     "data": {
      "image/png": "[encoded data removed]",
      "text/plain": [
       "<Figure size 720x720 with 1 Axes>"
      ]
     },
     "metadata": {},
     "output_type": "display_data"
    }
   ],
   "source": [
    "start = time.time()\n",
    "n_components = 2\n",
    "rng = RandomState(0)\n",
    "\n",
    "print(\"Fitting PCA\")\n",
    "pca = PCA(n_components=50)\n",
    "pca.fit(np_arr)\n",
    "X = pca.transform(np_arr)\n",
    "\n",
    "print(\"Fitting TSNE\")\n",
    "t_sne = manifold.TSNE(\n",
    "    n_components=n_components,\n",
    "    learning_rate=\"auto\",\n",
    "    perplexity=30,\n",
    "    n_iter=250,\n",
    "    init=\"random\",\n",
    "    random_state=rng,\n",
    ")\n",
    "fitted_t_sne = t_sne.fit_transform(X)\n",
    "\n",
    "print(f\"Generating the plot took {(time.time() - start) * 1000}ms.\")\n",
    "plot_2d(fitted_t_sne, c_labels, \"T-distributed Stochastic  \\n Neighbor Embedding\")"
   ]
  },
  {
   "cell_type": "markdown",
   "id": "9d28ef48-c538-4d1d-bf21-ad7822cbfe19",
   "metadata": {
    "jp-MarkdownHeadingCollapsed": true,
    "tags": []
   },
   "source": [
    "# TMAP"
   ]
  },
  {
   "cell_type": "markdown",
   "id": "664a18b2-d868-42d6-a4c4-5370933b0017",
   "metadata": {},
   "source": [
    "The inconsistencies in the relative positions of the embedding points could be attributed to phase 4 in the tmap algorithm described [here](https://jcheminf.biomedcentral.com/articles/10.1186/s13321-020-0416-x#Sec2). They conduct kruskal's to get a constructed MST tree, reducing computation times by large margins, before using a spring based graph layout alogrithm (probably the Fruchterman-Reingold force-directed algorithm) to plot out the points. But the tradeoff is that if points are not connected on the MST then their relative distances are not accounted for when placing points on the graph, only the neighbours. While this *might* yield multiple locally optimal solutions, it is possible that relative distances between global clusters of points are not accounted for, resulting in vastly different positionings of embedding points. While their neighbours might always be close together no matter the random initialisation, their global position might vary, as there is no way to solve for a deterministic solution without the connections of a fully connected graph (which is too expensive to compute)."
   ]
  },
  {
   "cell_type": "code",
   "execution_count": 4,
   "id": "28f64275-0ae2-4d62-a615-692c8844f1aa",
   "metadata": {},
   "outputs": [
    {
     "name": "stdout",
     "output_type": "stream",
     "text": [
      "0.26153844594955444\n",
      "0.11153846979141235\n",
      "0.32692307233810425\n"
     ]
    }
   ],
   "source": [
    "enc = tm.Minhash(d=50, seed=42, sample_size=130)\n",
    "\n",
    "mh_a = enc.from_weight_array(tm.VectorFloat([1, 1, 1, 1, 0, 1, 0, 1, 1, 0]))\n",
    "mh_b = enc.from_weight_array(tm.VectorFloat([1, 0, 1, 1, 0, 1, 1, 0, 1, 0]))\n",
    "mh_c = enc.from_weight_array(tm.VectorFloat([1, 0, 1, 1, 1, 1, 1, 0, 1, 0]))\n",
    "\n",
    "dist_a_b = enc.get_distance(mh_a, mh_b)\n",
    "dist_b_c = enc.get_distance(mh_b, mh_c)\n",
    "dist_a_c = enc.get_distance(mh_a, mh_c)\n",
    "\n",
    "print(dist_a_b)\n",
    "print(dist_b_c)\n",
    "print(dist_a_c)"
   ]
  },
  {
   "cell_type": "code",
   "execution_count": 5,
   "id": "3a9f4b16-d249-49ea-8368-c4517e11286c",
   "metadata": {},
   "outputs": [
    {
     "data": {
      "text/plain": [
       "[VectorUint[5, 1, 7, 1, 7, 1, 2, 0, 8, 0, 8, 1, 3, 0, 3, 1, 0, 1, 8, 1, 5, 0, 7, 0, 3, 1, 5, 1, 1, 1, 0, 1, 3, 1, 0, 0, 0, 1, 7, 1, 0, 1, 3, 1, 0, 1, 8, 1, 2, 0, 1, 1, 0, 1, 2, 0, 2, 1, 7, 1, 2, 1, 0, 0, 3, 1, 0, 1, 0, 1, 2, 0, 8, 1, 0, 1, 3, 1, 2, 2, 5, 1, 2, 0, 3, 1, 3, 0, 3, 1, 0, 1, 3, 1, 7, 0, 5, 1, 0, 1, 5, 1, 0, 1, 0, 1, 2, 0, 3, 0, 0, 1, 8, 1, 7, 0, 5, 1, 1, 1, 7, 0, 7, 0, 5, 1, 7, 1, 2, 1, 7, 0, 2, 1, 5, 1, 1, 1, 3, 0, 1, 0, 5, 0, 0, 1, 5, 1, 3, 2, 8, 1, 7, 0, 2, 2, 0, 0, 3, 0, 0, 1, 7, 0, 7, 1, 1, 0, 1, 0, 2, 1, 0, 1, 8, 0, 2, 1, 3, 0, 3, 1, 2, 1, 0, 0, 2, 1, 3, 1, 8, 0, 5, 0, 1, 1, 0, 0, 1, 0, 1, 1, 8, 1, 7, 1, 8, 1, 0, 1, 5, 1, 1, 1, 5, 1, 8, 1, 5, 0, 1, 0, 8, 1, 1, 1, 8, 1, 1, 1, 7, 1, 1, 1, 8, 0, 2, 1, 8, 1, 0, 1, 2, 1, 8, 0, 5, 1, 0, 0, 3, 0, 0, 1, 1, 1, 8, 0, 5, 1],\n",
       " VectorUint[5, 1, 5, 1, 0, 1, 2, 0, 8, 0, 8, 1, 3, 0, 3, 1, 6, 0, 6, 1, 5, 0, 6, 0, 3, 1, 5, 1, 8, 1, 0, 1, 3, 1, 6, 1, 0, 1, 6, 1, 0, 1, 3, 1, 0, 1, 8, 1, 2, 0, 6, 1, 0, 1, 2, 0, 2, 1, 5, 3, 2, 1, 0, 0, 3, 1, 0, 1, 6, 1, 2, 0, 8, 1, 0, 1, 3, 1, 2, 2, 5, 1, 2, 0, 3, 1, 3, 0, 3, 1, 0, 1, 3, 1, 5, 1, 5, 1, 0, 1, 5, 1, 0, 1, 0, 1, 2, 0, 3, 0, 0, 1, 6, 1, 8, 0, 5, 1, 5, 1, 2, 0, 3, 0, 5, 1, 5, 1, 2, 1, 0, 1, 2, 1, 6, 1, 8, 1, 3, 0, 3, 0, 5, 0, 0, 1, 5, 1, 3, 2, 6, 1, 8, 0, 2, 2, 0, 0, 6, 0, 6, 1, 5, 0, 6, 1, 0, 1, 6, 1, 2, 1, 0, 1, 6, 1, 6, 1, 3, 0, 3, 1, 2, 1, 0, 0, 2, 1, 3, 1, 6, 0, 5, 0, 6, 1, 0, 0, 2, 1, 6, 1, 6, 1, 3, 1, 6, 1, 0, 1, 5, 1, 2, 1, 6, 1, 8, 1, 5, 0, 3, 1, 6, 1, 6, 2, 8, 1, 0, 1, 2, 0, 3, 1, 8, 0, 2, 1, 8, 1, 0, 1, 2, 1, 6, 1, 5, 1, 0, 0, 6, 2, 6, 0, 2, 0, 6, 0, 5, 1]]"
      ]
     },
     "execution_count": 5,
     "metadata": {},
     "output_type": "execute_result"
    }
   ],
   "source": [
    "enc.batch_from_weight_array([tm.VectorFloat([1, 1, 1, 1, 0, 1, 0, 1, 1, 0]),tm.VectorFloat([1, 0, 1, 1, 0, 1, 1, 0, 1, 0])])"
   ]
  },
  {
   "cell_type": "code",
   "execution_count": 10,
   "id": "1cfede84-81e6-4f53-bb78-30f4617c4619",
   "metadata": {},
   "outputs": [
    {
     "name": "stdout",
     "output_type": "stream",
     "text": [
      "0.26153844594955444\n",
      "0.11153846979141235\n"
     ]
    }
   ],
   "source": [
    "enc = tm.Minhash(d=50, seed=42, sample_size=130)\n",
    "mh_a, mh_b = enc.batch_from_weight_array([tm.VectorFloat([1, 1, 1, 1, 0, 1, 0, 1, 1, 0]),tm.VectorFloat([1, 0, 1, 1, 0, 1, 1, 0, 1, 0])])\n",
    "mh_c = enc.from_weight_array(tm.VectorFloat([1, 0, 1, 1, 1, 1, 1, 0, 1, 0]))\n",
    "print(enc.get_distance(mh_a, mh_b))\n",
    "print(enc.get_distance(mh_b, mh_c))"
   ]
  },
  {
   "cell_type": "code",
   "execution_count": 6,
   "id": "36bca97f-6996-471b-ad34-a8207cbd6368",
   "metadata": {
    "tags": []
   },
   "outputs": [
    {
     "name": "stdout",
     "output_type": "stream",
     "text": [
      "Generating the data took 4.508018493652344ms.\n"
     ]
    },
    {
     "data": {
      "text/plain": [
       "[VectorFloat[6, 3, 7, 4, 6, 9, 2, 6, 7, 4],\n",
       " VectorFloat[3, 7, 7, 2, 5, 4, 1, 7, 5, 1],\n",
       " VectorFloat[4, 0, 9, 5, 8, 0, 9, 2, 6, 3]]"
      ]
     },
     "execution_count": 6,
     "metadata": {},
     "output_type": "execute_result"
    }
   ],
   "source": [
    "# Use 128 permutations to create the MinHash\n",
    "np.random.seed(42)\n",
    "enc = tm.Minhash(128, seed=42)\n",
    "\n",
    "d = 10\n",
    "n = 100\n",
    "\n",
    "data = []\n",
    "\n",
    "# Generating some random data\n",
    "start = time.time()\n",
    "for _ in range(n):\n",
    "    data.append(tm.VectorFloat(np.random.randint(0, high=10, size=d)))\n",
    "print(f\"Generating the data took {(time.time() - start) * 1000}ms.\")\n",
    "data[0:3]"
   ]
  },
  {
   "cell_type": "code",
   "execution_count": 7,
   "id": "e7128d7e-6cdf-4b8e-b1de-57d154ae72a4",
   "metadata": {},
   "outputs": [
    {
     "name": "stdout",
     "output_type": "stream",
     "text": [
      "Adding the data took 18.000125885009766ms.\n",
      "Indexing took 0.0ms.\n",
      "The layout generation took 33.99968147277832ms.\n"
     ]
    }
   ],
   "source": [
    "lf = tm.LSHForest(128)\n",
    "# Use batch_add to parallelize the insertion of the arrays\n",
    "start = time.time()\n",
    "lf.batch_add(enc.batch_from_weight_array(data))\n",
    "print(f\"Adding the data took {(time.time() - start) * 1000}ms.\")\n",
    "\n",
    "# Index the added data\n",
    "start = time.time()\n",
    "lf.index()\n",
    "print(f\"Indexing took {(time.time() - start) * 1000}ms.\")\n",
    "\n",
    "# Construct the k-nearest neighbour graph\n",
    "start = time.time()\n",
    "knng_from = tm.VectorUint()\n",
    "knng_to = tm.VectorUint()\n",
    "knng_weight = tm.VectorFloat()\n",
    "_ = lf.get_knn_graph(knng_from, knng_to, knng_weight, 10)\n",
    "\n",
    "print(f\"The layout generation took {(time.time() - start) * 1000}ms.\")"
   ]
  },
  {
   "cell_type": "markdown",
   "id": "b0c987ae-b72a-45ab-9b59-a815acdf9ae7",
   "metadata": {
    "tags": []
   },
   "source": [
    "### Test times for different distance methods"
   ]
  },
  {
   "cell_type": "code",
   "execution_count": 9,
   "id": "be28cecb-ccb0-48a0-a6ba-3353a3c81c1f",
   "metadata": {},
   "outputs": [
    {
     "data": {
      "text/plain": [
       "VectorUint[8, 4, 8, 8, 7, 4, 8, 4, 7, 3, 8, 13, 8, 4, 5, 2, 8, 5, 8, 1, 8, 2, 8, 3, 8, 10, 8, 20, 7, 1, 1, 0, 1, 2, 5, 2, 7, 2, 8, 8, 7, 3, 8, 13, 8, 3, 1, 3, 5, 3, 8, 2, 8, 6, 8, 3, 7, 3, 5, 2, 1, 2, 8, 5, 8, 5, 8, 8, 8, 3, 8, 3, 8, 9, 8, 3, 7, 3, 8, 3, 8, 3, 8, 2, 8, 5, 1, 2, 8, 4, 8, 4, 1, 1, 8, 3, 7, 3, 5, 5, 8, 5, 5, 1, 8, 7, 8, 3, 8, 42, 7, 2, 7, 9, 8, 1, 8, 4, 8, 2, 8, 6, 8, 5, 8, 9, 1, 1, 8, 2, 8, 37, 8, 4, 1, 3, 8, 15, 7, 2, 7, 4, 8, 7, 8, 10, 8, 27, 7, 3, 8, 3, 8, 9, 8, 13, 8, 6, 7, 2, 8, 47, 8, 2, 8, 18, 8, 3, 1, 4, 8, 18, 8, 4, 8, 2, 8, 9, 8, 5, 1, 2, 1, 4, 8, 3, 5, 2, 8, 10, 8, 5, 1, 2, 8, 9, 8, 3, 8, 4, 1, 2, 5, 2, 1, 2, 8, 3, 8, 6, 8, 22, 8, 3, 8, 9, 8, 9, 8, 3, 8, 1, 8, 3, 8, 22, 8, 3, 8, 3, 7, 3, 1, 2, 8, 21, 8, 11, 7, 2, 8, 1, 8, 4, 8, 6, 5, 1, 8, 3, 1, 1, 8, 4, 8, 4]"
      ]
     },
     "execution_count": 9,
     "metadata": {},
     "output_type": "execute_result"
    }
   ],
   "source": [
    "query_hash = enc.from_weight_array(tm.VectorFloat(np.random.randint(0, high=10, size=d)))\n",
    "query_hash"
   ]
  },
  {
   "cell_type": "code",
   "execution_count": 10,
   "id": "02f734cc-2c6a-4362-8719-82e9d9b993d0",
   "metadata": {},
   "outputs": [
    {
     "name": "stdout",
     "output_type": "stream",
     "text": [
      "VectorUint[8, 15, 20, 37, 49, 53, 55, 66, 84, 96]\n",
      "Time taken: 1.255035400390625ms\n"
     ]
    }
   ],
   "source": [
    "start = time.time()\n",
    "\n",
    "print(lf.query(query_hash, 10))\n",
    "\n",
    "print(f\"Time taken: {(time.time() - start) * 1000}ms\")"
   ]
  },
  {
   "cell_type": "markdown",
   "id": "89157022-e98e-43c7-9724-3d22c49113fb",
   "metadata": {},
   "source": [
    "query and query_linear_scan give different results? query_linear scan first result is the same as `lf.get_distance`"
   ]
  },
  {
   "cell_type": "code",
   "execution_count": 11,
   "id": "fa63de82-606a-4958-be4d-3babc7aacb35",
   "metadata": {},
   "outputs": [
    {
     "name": "stdout",
     "output_type": "stream",
     "text": [
      "Time taken: 32.05704689025879ms\n"
     ]
    }
   ],
   "source": [
    "start = time.time()\n",
    "\n",
    "for i in range(100):\n",
    "    lf.query_linear_scan(query_hash, 10)\n",
    "\n",
    "print(f\"Time taken: {(time.time() - start) * 1000}ms\")"
   ]
  },
  {
   "cell_type": "markdown",
   "id": "311ce58c-9732-423a-add6-baafea29366a",
   "metadata": {},
   "source": [
    "Lazy to compare batch adding to the lshforest and then querying."
   ]
  },
  {
   "cell_type": "code",
   "execution_count": 114,
   "id": "d1918d09-7a39-43f6-82fa-b8b7779387e2",
   "metadata": {},
   "outputs": [
    {
     "data": {
      "text/plain": [
       "(VectorUint[5, 2, 5, 4, 5, 9, 5, 12, 5, 10, 5, 7, 8, 3, 5, 2, 5, 15, 8, 1, 5, 7, 5, 1, 5, 4, 5, 13, 7, 1, 9, 1, 5, 19, 5, 2, 5, 7, 5, 7, 5, 3, 4, 2, 8, 3, 5, 10, 2, 1, 8, 2, 0, 1, 5, 4, 5, 5, 5, 3, 5, 10, 5, 10, 5, 7, 5, 5, 4, 1, 5, 18, 5, 3, 5, 4, 5, 11, 2, 2, 2, 1, 8, 2, 8, 4, 5, 7, 7, 1, 0, 3, 5, 3, 5, 2, 5, 5, 5, 6, 5, 11, 5, 1, 8, 5, 5, 6, 5, 12, 2, 2, 5, 7, 5, 5, 5, 12, 8, 2, 5, 6, 5, 6, 5, 10, 5, 4, 5, 6, 4, 2, 5, 10, 5, 7, 4, 1, 5, 12, 2, 6, 2, 2, 8, 8, 0, 2, 5, 4, 2, 2, 2, 2, 5, 8, 5, 3, 7, 2, 5, 4, 5, 3, 7, 2, 5, 8, 5, 9, 5, 14, 5, 5, 8, 2, 5, 5, 5, 6, 5, 6, 5, 5, 5, 14, 5, 2, 5, 20, 8, 4, 5, 4, 7, 3, 5, 20, 5, 23, 5, 12, 2, 8, 5, 3, 5, 10, 5, 6, 5, 15, 5, 9, 5, 19, 2, 3, 8, 3, 8, 1, 8, 3, 5, 5, 8, 2, 8, 3, 5, 17, 5, 5, 2, 3, 5, 3, 5, 11, 8, 1, 5, 7, 5, 36, 5, 1, 5, 1, 0, 2, 5, 3, 8, 3],\n",
       " VectorUint[8, 2, 7, 3, 7, 4, 7, 2, 7, 3, 7, 5, 2, 2, 2, 2, 7, 4, 1, 3, 2, 8, 2, 3, 1, 13, 2, 3, 7, 1, 1, 0, 1, 2, 1, 5, 7, 2, 7, 2, 7, 3, 2, 9, 1, 1, 1, 3, 2, 1, 1, 4, 1, 4, 7, 5, 7, 3, 7, 2, 1, 2, 2, 1, 1, 3, 2, 2, 4, 1, 2, 4, 7, 5, 1, 2, 7, 3, 2, 2, 2, 1, 7, 4, 7, 2, 1, 2, 7, 1, 1, 8, 1, 1, 7, 3, 7, 3, 7, 3, 4, 2, 5, 1, 2, 3, 7, 2, 2, 3, 7, 2, 7, 9, 8, 1, 2, 3, 7, 17, 7, 4, 7, 6, 7, 2, 1, 1, 7, 3, 2, 3, 7, 3, 1, 3, 4, 1, 7, 2, 7, 4, 2, 2, 7, 4, 2, 17, 7, 3, 2, 2, 2, 2, 2, 2, 1, 3, 7, 2, 2, 4, 1, 3, 7, 2, 7, 6, 1, 4, 2, 4, 2, 4, 7, 2, 7, 3, 2, 10, 1, 2, 1, 4, 1, 3, 2, 13, 2, 2, 2, 3, 1, 2, 7, 3, 8, 2, 1, 2, 1, 2, 2, 8, 1, 2, 7, 4, 1, 4, 1, 4, 2, 3, 2, 3, 1, 4, 7, 4, 7, 2, 7, 2, 1, 2, 7, 3, 1, 7, 7, 3, 1, 2, 2, 3, 2, 1, 7, 2, 8, 1, 7, 4, 2, 8, 1, 3, 2, 4, 1, 1, 1, 2, 1, 2])"
      ]
     },
     "execution_count": 114,
     "metadata": {},
     "output_type": "execute_result"
    }
   ],
   "source": [
    "lf.get_hash(0), lf.get_hash(1)"
   ]
  },
  {
   "cell_type": "code",
   "execution_count": 115,
   "id": "624d3d5a-9ca7-4b71-a4ae-61c84a6bd08b",
   "metadata": {},
   "outputs": [
    {
     "data": {
      "text/plain": [
       "0.8515625"
      ]
     },
     "execution_count": 115,
     "metadata": {},
     "output_type": "execute_result"
    }
   ],
   "source": [
    "lf.get_distance_by_id(0, 1)"
   ]
  },
  {
   "cell_type": "code",
   "execution_count": 116,
   "id": "00d07966-da6e-4e18-8971-dfa04e30c2fb",
   "metadata": {
    "collapsed": true,
    "jupyter": {
     "outputs_hidden": true
    },
    "tags": []
   },
   "outputs": [
    {
     "data": {
      "text/plain": [
       "(VectorFloat[-1, 0.28125, 0.296875, 0.429688, 0.445312, 0.460938, 0.46875, 0.515625, 0.523438, 0.53125, -1, 0.492188, 0.515625, 0.53125, 0.609375, 0.617188, 0.617188, 0.640625, 0.648438, 0.65625, -1, 0.195312, 0.375, 0.421875, 0.429688, 0.453125, 0.5, 0.507812, 0.515625, 0.53125, -1, 0.296875, 0.421875, 0.453125, 0.476562, 0.523438, 0.53125, 0.5625, 0.585938, 0.609375, -1, 0.304688, 0.390625, 0.492188, 0.507812, 0.507812, 0.515625, 0.523438, 0.53125, 0.539062, -1, 0.445312, 0.492188, 0.523438, 0.554688, 0.554688, 0.554688, 0.585938, 0.59375, 0.601562, -1, 0.03125, 0.203125, 0.304688, 0.375, 0.5, 0.53125, 0.53125, 0.539062, 0.546875, -1, 0.21875, 0.359375, 0.429688, 0.492188, 0.53125, 0.53125, 0.539062, 0.546875, 0.546875, -1, 0.226562, 0.460938, 0.539062, 0.585938, 0.617188, 0.632812, 0.648438, 0.648438, 0.65625, -1, 0.304688, 0.304688, 0.335938, 0.46875, 0.484375, 0.5, 0.507812, 0.53125, 0.53125, -1, 0.492188, 0.53125, 0.59375, 0.59375, 0.601562, 0.609375, 0.617188, 0.648438, 0.648438, -1, 0.234375, 0.320312, 0.34375, 0.398438, 0.421875, 0.4375, 0.476562, 0.492188, 0.53125, -1, 0.460938, 0.570312, 0.578125, 0.585938, 0.617188, 0.625, 0.640625, 0.65625, 0.65625, -1, 0.203125, 0.296875, 0.359375, 0.359375, 0.414062, 0.46875, 0.5, 0.515625, 0.53125, -1, 0.492188, 0.523438, 0.53125, 0.5625, 0.585938, 0.632812, 0.632812, 0.640625, 0.640625, -1, 0.414062, 0.4375, 0.445312, 0.460938, 0.546875, 0.601562, 0.625, 0.648438, 0.664062, -1, 0.078125, 0.328125, 0.351562, 0.359375, 0.375, 0.398438, 0.429688, 0.445312, 0.492188, -1, 0.320312, 0.414062, 0.585938, 0.585938, 0.59375, 0.648438, 0.648438, 0.726562, 0.726562, -1, 0.117188, 0.445312, 0.5, 0.546875, 0.601562, 0.601562, 0.609375, 0.648438, 0.664062, -1, 0.367188, 0.601562, 0.617188, 0.648438, 0.65625, 0.65625, 0.65625, 0.65625, 0.671875, -1, 0.335938, 0.398438, 0.445312, 0.507812, 0.539062, 0.578125, 0.585938, 0.617188, 0.679688, -1, 0.460938, 0.5, 0.570312, 0.570312, 0.585938, 0.59375, 0.59375, 0.609375, 0.6875, -1, 0.375, 0.460938, 0.5, 0.554688, 0.5625, 0.5625, 0.585938, 0.59375, 0.601562, -1, 0.507812, 0.507812, 0.546875, 0.585938, 0.59375, 0.609375, 0.617188, 0.65625, 0.679688, -1, 0.507812, 0.53125, 0.554688, 0.609375, 0.617188, 0.632812, 0.640625, 0.640625, 0.671875, -1, 0.421875, 0.53125, 0.570312, 0.625, 0.625, 0.632812, 0.640625, 0.640625, 0.648438, -1, 0.320312, 0.445312, 0.460938, 0.539062, 0.570312, 0.601562, 0.648438, 0.6875, 0.695312, -1, 0.507812, 0.53125, 0.601562, 0.601562, 0.617188, 0.648438, 0.65625, 0.664062, 0.6875, -1, 0.367188, 0.59375, 0.609375, 0.632812, 0.632812, 0.640625, 0.664062, 0.671875, 0.679688, -1, 0.304688, 0.445312, 0.664062, 0.6875, 0.6875, 0.6875, 0.6875, 0.703125, 0.71875, -1, 0.539062, 0.554688, 0.585938, 0.601562, 0.617188, 0.65625, 0.664062, 0.664062, 0.671875, -1, 0.203125, 0.234375, 0.304688, 0.382812, 0.507812, 0.546875, 0.546875, 0.554688, 0.617188, -1, 0.03125, 0.234375, 0.335938, 0.34375, 0.5, 0.515625, 0.53125, 0.53125, 0.539062, -1, 0.3125, 0.390625, 0.4375, 0.453125, 0.453125, 0.5, 0.539062, 0.554688, 0.585938, -1, 0.375, 0.460938, 0.492188, 0.554688, 0.632812, 0.632812, 0.640625, 0.65625, 0.679688, -1, 0.351562, 0.382812, 0.515625, 0.570312, 0.59375, 0.59375, 0.601562, 0.617188, 0.632812, -1, 0.421875, 0.460938, 0.484375, 0.539062, 0.546875, 0.601562, 0.617188, 0.632812, 0.632812, -1, 0.335938, 0.367188, 0.414062, 0.5, 0.507812, 0.570312, 0.617188, 0.671875, 0.679688, -1, 0.34375, 0.375, 0.382812, 0.46875, 0.578125, 0.585938, 0.601562, 0.609375, 0.609375, -1, 0.34375, 0.484375, 0.515625, 0.539062, 0.554688, 0.601562, 0.601562, 0.617188, 0.625, -1, 0.117188, 0.429688, 0.515625, 0.585938, 0.585938, 0.601562, 0.609375, 0.617188, 0.632812, -1, 0.304688, 0.382812, 0.414062, 0.421875, 0.445312, 0.46875, 0.484375, 0.492188, 0.523438, -1, 0.398438, 0.445312, 0.523438, 0.523438, 0.570312, 0.570312, 0.578125, 0.578125, 0.609375, -1, 0.398438, 0.460938, 0.492188, 0.5, 0.53125, 0.546875, 0.5625, 0.5625, 0.5625, -1, 0.414062, 0.570312, 0.585938, 0.679688, 0.695312, 0.703125, 0.710938, 0.726562, 0.734375, -1, 0.148438, 0.28125, 0.359375, 0.359375, 0.398438, 0.460938, 0.460938, 0.554688, 0.578125, -1, 0.257812, 0.375, 0.390625, 0.492188, 0.5, 0.5, 0.523438, 0.539062, 0.539062, -1, 0.375, 0.453125, 0.5625, 0.570312, 0.59375, 0.632812, 0.632812, 0.632812, 0.65625, -1, 0.351562, 0.421875, 0.421875, 0.5625, 0.578125, 0.585938, 0.648438, 0.648438, 0.65625, -1, 0.25, 0.507812, 0.570312, 0.578125, 0.617188, 0.625, 0.648438, 0.65625, 0.664062, -1, 0.554688, 0.585938, 0.59375, 0.59375, 0.601562, 0.640625, 0.640625, 0.648438, 0.65625, -1, 0.375, 0.421875, 0.445312, 0.460938, 0.5, 0.515625, 0.53125, 0.539062, 0.546875, -1, 0.179688, 0.5, 0.507812, 0.546875, 0.554688, 0.554688, 0.578125, 0.585938, 0.664062, -1, 0.46875, 0.585938, 0.601562, 0.609375, 0.617188, 0.648438, 0.65625, 0.65625, 0.664062, -1, 0.46875, 0.484375, 0.492188, 0.507812, 0.53125, 0.546875, 0.554688, 0.554688, 0.570312, -1, 0.25, 0.507812, 0.539062, 0.570312, 0.632812, 0.671875, 0.6875, 0.695312, 0.710938, -1, 0.203125, 0.328125, 0.429688, 0.4375, 0.453125, 0.460938, 0.5, 0.515625, 0.53125, -1, 0.351562, 0.414062, 0.484375, 0.539062, 0.546875, 0.570312, 0.585938, 0.601562, 0.601562, -1, 0.34375, 0.359375, 0.382812, 0.421875, 0.421875, 0.4375, 0.484375, 0.492188, 0.515625, -1, 0.507812, 0.578125, 0.59375, 0.59375, 0.601562, 0.617188, 0.625, 0.625, 0.640625, -1, 0.273438, 0.34375, 0.382812, 0.398438, 0.421875, 0.421875, 0.429688, 0.429688, 0.4375, -1, 0.257812, 0.34375, 0.398438, 0.429688, 0.453125, 0.453125, 0.5, 0.507812, 0.5625, -1, 0.0859375, 0.242188, 0.398438, 0.429688, 0.4375, 0.601562, 0.609375, 0.617188, 0.640625, -1, 0.53125, 0.539062, 0.554688, 0.554688, 0.570312, 0.585938, 0.585938, 0.59375, 0.625, -1, 0.273438, 0.304688, 0.320312, 0.351562, 0.367188, 0.382812, 0.40625, 0.492188, 0.507812, -1, 0.609375, 0.609375, 0.617188, 0.632812, 0.664062, 0.671875, 0.671875, 0.679688, 0.695312, -1, 0.179688, 0.460938, 0.492188, 0.5, 0.507812, 0.523438, 0.5625, 0.601562, 0.664062, -1, 0.242188, 0.257812, 0.3125, 0.4375, 0.5, 0.59375, 0.609375, 0.617188, 0.617188, -1, 0.34375, 0.351562, 0.429688, 0.507812, 0.53125, 0.59375, 0.601562, 0.625, 0.625, -1, 0.0859375, 0.257812, 0.382812, 0.414062, 0.46875, 0.617188, 0.625, 0.632812, 0.648438, -1, 0.679688, 0.710938, 0.710938, 0.71875, 0.726562, 0.75, 0.75, 0.757812, 0.773438, -1, 0.359375, 0.398438, 0.421875, 0.429688, 0.523438, 0.53125, 0.546875, 0.59375, 0.59375, -1, 0.367188, 0.46875, 0.515625, 0.53125, 0.546875, 0.609375, 0.617188, 0.617188, 0.617188, -1, 0.3125, 0.382812, 0.4375, 0.539062, 0.554688, 0.585938, 0.59375, 0.632812, 0.632812, -1, 0.078125, 0.28125, 0.34375, 0.367188, 0.398438, 0.414062, 0.421875, 0.421875, 0.4375, -1, 0.3125, 0.375, 0.515625, 0.554688, 0.5625, 0.578125, 0.585938, 0.601562, 0.609375, -1, 0.304688, 0.390625, 0.4375, 0.453125, 0.453125, 0.460938, 0.554688, 0.554688, 0.5625, -1, 0.484375, 0.554688, 0.5625, 0.585938, 0.601562, 0.625, 0.664062, 0.671875, 0.671875, -1, 0.296875, 0.351562, 0.367188, 0.429688, 0.46875, 0.484375, 0.5, 0.539062, 0.546875, -1, 0.492188, 0.5, 0.5, 0.5, 0.515625, 0.585938, 0.640625, 0.65625, 0.65625, -1, 0.523438, 0.53125, 0.53125, 0.539062, 0.5625, 0.585938, 0.59375, 0.59375, 0.601562, -1, 0.492188, 0.515625, 0.539062, 0.601562, 0.609375, 0.625, 0.671875, 0.671875, 0.679688, -1, 0.421875, 0.5, 0.507812, 0.53125, 0.570312, 0.570312, 0.578125, 0.601562, 0.617188, -1, 0.453125, 0.554688, 0.5625, 0.625, 0.679688, 0.6875, 0.695312, 0.695312, 0.71875, -1, 0.226562, 0.375, 0.539062, 0.601562, 0.648438, 0.65625, 0.65625, 0.671875, 0.6875, -1, 0.304688, 0.554688, 0.554688, 0.59375, 0.609375, 0.679688, 0.710938, 0.710938, 0.71875, -1, 0.195312, 0.28125, 0.328125, 0.34375, 0.5, 0.523438, 0.53125, 0.539062, 0.539062, -1, 0.148438, 0.296875, 0.296875, 0.398438, 0.421875, 0.445312, 0.453125, 0.570312, 0.578125, -1, 0.351562, 0.429688, 0.445312, 0.5, 0.570312, 0.59375, 0.625, 0.640625, 0.65625, -1, 0.476562, 0.476562, 0.492188, 0.5, 0.5, 0.546875, 0.5625, 0.570312, 0.59375, -1, 0.40625, 0.460938, 0.5, 0.515625, 0.53125, 0.546875, 0.546875, 0.5625, 0.5625, -1, 0.445312, 0.546875, 0.570312, 0.578125, 0.59375, 0.59375, 0.601562, 0.625, 0.625, -1, 0.414062, 0.421875, 0.5625, 0.570312, 0.601562, 0.601562, 0.609375, 0.625, 0.632812, -1, 0.296875, 0.40625, 0.421875, 0.476562, 0.507812, 0.515625, 0.539062, 0.546875, 0.546875, -1, 0.507812, 0.609375, 0.617188, 0.632812, 0.648438, 0.648438, 0.65625, 0.65625, 0.671875, -1, 0.296875, 0.398438, 0.414062, 0.429688, 0.4375, 0.46875, 0.492188, 0.5, 0.5, -1, 0.367188, 0.398438, 0.4375, 0.523438, 0.554688, 0.625, 0.625, 0.632812, 0.695312, -1, 0.484375, 0.5, 0.507812, 0.53125, 0.5625, 0.578125, 0.648438, 0.695312, 0.703125, -1, 0.234375, 0.40625, 0.429688, 0.4375, 0.492188, 0.492188, 0.546875, 0.554688, 0.585938, -1, 0.21875, 0.328125, 0.375, 0.382812, 0.414062, 0.476562, 0.507812, 0.53125, 0.546875],\n",
       " VectorUint[0, 0, 0, 0, 0, 0, 0, 0, 0, 0, 0, 1, 1, 1, 1, 1, 1, 1, 1, 1, 0, 2, 2, 2, 2, 2, 2, 2, 2, 2, 0, 3, 3, 3, 3, 3, 3, 3, 3, 3, 0, 4, 4, 4, 4, 4, 4, 4, 4, 4, 0, 5, 5, 5, 5, 5, 5, 5, 5, 5, 0, 6, 6, 6, 6, 6, 6, 6, 6, 6, 0, 7, 7, 7, 7, 7, 7, 7, 7, 7, 0, 8, 8, 8, 8, 8, 8, 8, 8, 8, 0, 9, 9, 9, 9, 9, 9, 9, 9, 9, 0, 10, 10, 10, 10, 10, 10, 10, 10, 10, 0, 11, 11, 11, 11, 11, 11, 11, 11, 11, 0, 12, 12, 12, 12, 12, 12, 12, 12, 12, 0, 13, 13, 13, 13, 13, 13, 13, 13, 13, 0, 14, 14, 14, 14, 14, 14, 14, 14, 14, 0, 15, 15, 15, 15, 15, 15, 15, 15, 15, 0, 16, 16, 16, 16, 16, 16, 16, 16, 16, 0, 17, 17, 17, 17, 17, 17, 17, 17, 17, 0, 18, 18, 18, 18, 18, 18, 18, 18, 18, 0, 19, 19, 19, 19, 19, 19, 19, 19, 19, 0, 20, 20, 20, 20, 20, 20, 20, 20, 20, 0, 21, 21, 21, 21, 21, 21, 21, 21, 21, 0, 22, 22, 22, 22, 22, 22, 22, 22, 22, 0, 23, 23, 23, 23, 23, 23, 23, 23, 23, 0, 24, 24, 24, 24, 24, 24, 24, 24, 24, 0, 25, 25, 25, 25, 25, 25, 25, 25, 25, 0, 26, 26, 26, 26, 26, 26, 26, 26, 26, 0, 27, 27, 27, 27, 27, 27, 27, 27, 27, 0, 28, 28, 28, 28, 28, 28, 28, 28, 28, 0, 29, 29, 29, 29, 29, 29, 29, 29, 29, 0, 30, 30, 30, 30, 30, 30, 30, 30, 30, 0, 31, 31, 31, 31, 31, 31, 31, 31, 31, 0, 32, 32, 32, 32, 32, 32, 32, 32, 32, 0, 33, 33, 33, 33, 33, 33, 33, 33, 33, 0, 34, 34, 34, 34, 34, 34, 34, 34, 34, 0, 35, 35, 35, 35, 35, 35, 35, 35, 35, 0, 36, 36, 36, 36, 36, 36, 36, 36, 36, 0, 37, 37, 37, 37, 37, 37, 37, 37, 37, 0, 38, 38, 38, 38, 38, 38, 38, 38, 38, 0, 39, 39, 39, 39, 39, 39, 39, 39, 39, 0, 40, 40, 40, 40, 40, 40, 40, 40, 40, 0, 41, 41, 41, 41, 41, 41, 41, 41, 41, 0, 42, 42, 42, 42, 42, 42, 42, 42, 42, 0, 43, 43, 43, 43, 43, 43, 43, 43, 43, 0, 44, 44, 44, 44, 44, 44, 44, 44, 44, 0, 45, 45, 45, 45, 45, 45, 45, 45, 45, 0, 46, 46, 46, 46, 46, 46, 46, 46, 46, 0, 47, 47, 47, 47, 47, 47, 47, 47, 47, 0, 48, 48, 48, 48, 48, 48, 48, 48, 48, 0, 49, 49, 49, 49, 49, 49, 49, 49, 49, 0, 50, 50, 50, 50, 50, 50, 50, 50, 50, 0, 51, 51, 51, 51, 51, 51, 51, 51, 51, 0, 52, 52, 52, 52, 52, 52, 52, 52, 52, 0, 53, 53, 53, 53, 53, 53, 53, 53, 53, 0, 54, 54, 54, 54, 54, 54, 54, 54, 54, 0, 55, 55, 55, 55, 55, 55, 55, 55, 55, 0, 56, 56, 56, 56, 56, 56, 56, 56, 56, 0, 57, 57, 57, 57, 57, 57, 57, 57, 57, 0, 58, 58, 58, 58, 58, 58, 58, 58, 58, 0, 59, 59, 59, 59, 59, 59, 59, 59, 59, 0, 60, 60, 60, 60, 60, 60, 60, 60, 60, 0, 61, 61, 61, 61, 61, 61, 61, 61, 61, 0, 62, 62, 62, 62, 62, 62, 62, 62, 62, 0, 63, 63, 63, 63, 63, 63, 63, 63, 63, 0, 64, 64, 64, 64, 64, 64, 64, 64, 64, 0, 65, 65, 65, 65, 65, 65, 65, 65, 65, 0, 66, 66, 66, 66, 66, 66, 66, 66, 66, 0, 67, 67, 67, 67, 67, 67, 67, 67, 67, 0, 68, 68, 68, 68, 68, 68, 68, 68, 68, 0, 69, 69, 69, 69, 69, 69, 69, 69, 69, 0, 70, 70, 70, 70, 70, 70, 70, 70, 70, 0, 71, 71, 71, 71, 71, 71, 71, 71, 71, 0, 72, 72, 72, 72, 72, 72, 72, 72, 72, 0, 73, 73, 73, 73, 73, 73, 73, 73, 73, 0, 74, 74, 74, 74, 74, 74, 74, 74, 74, 0, 75, 75, 75, 75, 75, 75, 75, 75, 75, 0, 76, 76, 76, 76, 76, 76, 76, 76, 76, 0, 77, 77, 77, 77, 77, 77, 77, 77, 77, 0, 78, 78, 78, 78, 78, 78, 78, 78, 78, 0, 79, 79, 79, 79, 79, 79, 79, 79, 79, 0, 80, 80, 80, 80, 80, 80, 80, 80, 80, 0, 81, 81, 81, 81, 81, 81, 81, 81, 81, 0, 82, 82, 82, 82, 82, 82, 82, 82, 82, 0, 83, 83, 83, 83, 83, 83, 83, 83, 83, 0, 84, 84, 84, 84, 84, 84, 84, 84, 84, 0, 85, 85, 85, 85, 85, 85, 85, 85, 85, 0, 86, 86, 86, 86, 86, 86, 86, 86, 86, 0, 87, 87, 87, 87, 87, 87, 87, 87, 87, 0, 88, 88, 88, 88, 88, 88, 88, 88, 88, 0, 89, 89, 89, 89, 89, 89, 89, 89, 89, 0, 90, 90, 90, 90, 90, 90, 90, 90, 90, 0, 91, 91, 91, 91, 91, 91, 91, 91, 91, 0, 92, 92, 92, 92, 92, 92, 92, 92, 92, 0, 93, 93, 93, 93, 93, 93, 93, 93, 93, 0, 94, 94, 94, 94, 94, 94, 94, 94, 94, 0, 95, 95, 95, 95, 95, 95, 95, 95, 95, 0, 96, 96, 96, 96, 96, 96, 96, 96, 96, 0, 97, 97, 97, 97, 97, 97, 97, 97, 97, 0, 98, 98, 98, 98, 98, 98, 98, 98, 98, 0, 99, 99, 99, 99, 99, 99, 99, 99, 99],\n",
       " VectorUint[0, 45, 87, 71, 51, 22, 13, 56, 42, 82, 0, 10, 81, 27, 40, 23, 24, 34, 18, 19, 0, 86, 16, 74, 61, 76, 46, 4, 64, 11, 0, 93, 58, 83, 89, 14, 25, 90, 11, 64, 0, 76, 33, 43, 2, 61, 75, 46, 63, 39, 0, 29, 66, 80, 52, 77, 85, 98, 50, 75, 0, 32, 31, 9, 38, 95, 51, 80, 78, 99, 0, 99, 13, 56, 46, 9, 60, 32, 0, 51, 0, 84, 34, 57, 30, 19, 0, 48, 49, 27, 0, 6, 31, 32, 38, 54, 13, 99, 7, 56, 0, 1, 24, 21, 88, 40, 23, 89, 17, 73, 0, 98, 64, 60, 16, 74, 58, 99, 41, 2, 0, 36, 57, 97, 48, 30, 82, 92, 34, 84, 0, 56, 87, 7, 45, 99, 0, 9, 90, 71, 0, 79, 3, 97, 77, 7, 47, 58, 74, 89, 0, 37, 96, 20, 66, 52, 57, 91, 39, 25, 0, 74, 86, 64, 58, 2, 11, 60, 41, 98, 0, 26, 44, 21, 63, 91, 10, 50, 88, 89, 0, 40, 88, 79, 23, 35, 59, 38, 1, 10, 0, 28, 27, 8, 84, 0, 1, 51, 94, 65, 0, 37, 96, 15, 66, 55, 49, 52, 22, 75, 0, 26, 89, 63, 91, 17, 10, 50, 85, 5, 0, 51, 0, 52, 31, 6, 7, 46, 32, 45, 0, 49, 55, 18, 40, 59, 10, 1, 79, 37, 0, 59, 10, 73, 38, 1, 94, 28, 31, 71, 0, 93, 3, 49, 90, 96, 9, 11, 64, 89, 0, 17, 91, 21, 63, 44, 50, 89, 42, 39, 0, 94, 1, 19, 91, 65, 43, 8, 30, 33, 0, 19, 45, 87, 0, 34, 24, 51, 71, 8, 0, 85, 5, 66, 11, 50, 77, 98, 80, 52, 0, 84, 34, 8, 36, 12, 57, 27, 48, 81, 0, 6, 32, 9, 38, 95, 0, 78, 22, 71, 0, 6, 31, 9, 38, 95, 51, 80, 99, 7, 0, 75, 4, 76, 47, 61, 43, 46, 63, 2, 0, 84, 8, 81, 30, 28, 36, 1, 12, 19, 0, 88, 41, 64, 54, 60, 61, 18, 46, 40, 0, 48, 12, 57, 81, 43, 30, 53, 34, 92, 0, 20, 96, 15, 66, 52, 55, 49, 22, 23, 0, 32, 6, 31, 9, 59, 40, 7, 18, 24, 0, 68, 78, 72, 4, 95, 80, 92, 9, 54, 0, 18, 88, 79, 23, 38, 10, 1, 59, 35, 0, 64, 35, 74, 60, 16, 53, 58, 11, 86, 0, 45, 87, 0, 71, 13, 46, 7, 51, 56, 0, 61, 76, 4, 33, 86, 36, 46, 48, 92, 0, 17, 26, 50, 70, 63, 8, 21, 39, 10, 0, 87, 0, 13, 71, 42, 51, 56, 7, 82, 0, 61, 99, 76, 7, 2, 86, 4, 33, 56, 0, 75, 33, 61, 46, 4, 14, 65, 76, 86, 0, 57, 36, 92, 43, 91, 12, 8, 78, 53, 0, 55, 23, 25, 20, 37, 96, 8, 1, 15, 0, 83, 44, 5, 21, 26, 39, 79, 17, 4, 0, 22, 87, 0, 45, 82, 32, 6, 13, 7, 0, 66, 22, 37, 15, 5, 96, 75, 20, 77, 0, 41, 57, 81, 92, 36, 89, 35, 48, 12, 0, 74, 9, 95, 68, 16, 72, 60, 78, 35, 0, 49, 23, 20, 37, 96, 15, 75, 8, 0, 0, 13, 99, 7, 60, 87, 45, 90, 0, 9, 0, 48, 92, 36, 8, 91, 12, 53, 15, 84, 0, 74, 16, 64, 3, 60, 11, 41, 98, 93, 0, 24, 38, 7, 23, 18, 40, 0, 87, 45, 0, 64, 11, 99, 74, 41, 58, 16, 98, 56, 0, 46, 86, 43, 2, 33, 76, 74, 4, 47, 0, 69, 67, 95, 78, 73, 68, 94, 72, 31, 0, 4, 26, 33, 76, 21, 17, 61, 43, 39, 0, 60, 41, 11, 16, 74, 58, 98, 89, 93, 0, 2, 86, 27, 47, 61, 19, 75, 74, 4, 0, 52, 15, 5, 37, 20, 96, 75, 22, 29, 0, 62, 69, 73, 95, 78, 80, 72, 6, 32, 0, 39, 78, 95, 54, 72, 91, 62, 69, 92, 0, 62, 67, 73, 95, 78, 94, 68, 31, 72, 0, 44, 12, 30, 72, 83, 39, 97, 34, 28, 0, 45, 87, 82, 0, 42, 13, 51, 32, 99, 0, 78, 95, 39, 68, 54, 67, 6, 32, 62, 0, 67, 69, 62, 95, 24, 80, 78, 6, 32, 0, 16, 86, 58, 64, 60, 41, 2, 11, 98, 0, 33, 47, 4, 76, 66, 52, 61, 5, 2, 0, 4, 46, 33, 2, 61, 43, 63, 75, 86, 0, 97, 5, 14, 79, 80, 83, 52, 50, 66, 0, 95, 68, 72, 62, 69, 39, 67, 6, 31, 0, 14, 18, 88, 97, 40, 77, 50, 10, 23, 0, 5, 6, 32, 95, 78, 73, 33, 67, 39, 0, 34, 1, 36, 53, 41, 89, 30, 84, 8, 0, 71, 51, 97, 0, 7, 87, 45, 22, 13, 0, 3, 50, 97, 77, 71, 58, 14, 82, 96, 0, 8, 34, 30, 57, 19, 0, 12, 81, 36, 0, 29, 5, 11, 98, 21, 7, 50, 80, 66, 0, 2, 74, 16, 61, 46, 41, 43, 58, 64, 0, 45, 0, 13, 71, 51, 42, 56, 82, 7, 0, 35, 40, 18, 79, 92, 10, 41, 63, 38, 0, 3, 93, 64, 21, 60, 90, 41, 11, 7, 0, 93, 60, 56, 13, 64, 58, 89, 3, 16, 0, 26, 57, 21, 48, 17, 68, 27, 15, 63, 0, 57, 48, 43, 88, 39, 76, 53, 68, 36, 0, 3, 90, 25, 89, 64, 58, 11, 60, 74, 0, 27, 62, 69, 24, 73, 95, 19, 31, 1, 0, 78, 62, 69, 68, 67, 72, 54, 6, 32, 0, 37, 20, 15, 66, 52, 25, 49, 55, 23, 0, 77, 79, 82, 14, 83, 12, 3, 96, 23, 0, 11, 64, 60, 74, 16, 58, 99, 41, 5, 0, 7, 56, 46, 60, 13, 11, 9, 32, 6])"
      ]
     },
     "execution_count": 116,
     "metadata": {},
     "output_type": "execute_result"
    }
   ],
   "source": [
    "knng_weight, knng_from, knng_to"
   ]
  },
  {
   "cell_type": "code",
   "execution_count": 13,
   "id": "e80f7a9e-e6af-4ab3-b0b9-839c63d87d77",
   "metadata": {
    "collapsed": true,
    "jupyter": {
     "outputs_hidden": true
    },
    "tags": []
   },
   "outputs": [
    {
     "data": {
      "text/plain": [
       "[(0, 45, 0.28125),\n",
       " (0, 87, 0.296875),\n",
       " (0, 71, 0.4296875),\n",
       " (0, 51, 0.4453125),\n",
       " (0, 22, 0.4609375),\n",
       " (0, 13, 0.46875),\n",
       " (0, 56, 0.515625),\n",
       " (0, 42, 0.5234375),\n",
       " (0, 82, 0.53125),\n",
       " (1, 10, 0.4921875),\n",
       " (1, 81, 0.515625),\n",
       " (1, 27, 0.53125),\n",
       " (1, 40, 0.609375),\n",
       " (1, 23, 0.6171875),\n",
       " (1, 24, 0.6171875),\n",
       " (1, 34, 0.640625),\n",
       " (1, 18, 0.6484375),\n",
       " (1, 19, 0.65625),\n",
       " (2, 86, 0.1953125),\n",
       " (2, 16, 0.375)]"
      ]
     },
     "execution_count": 13,
     "metadata": {},
     "output_type": "execute_result"
    }
   ],
   "source": [
    "edges = [i for i in zip(knng_from, knng_to, knng_weight) if i[0] != i[1]]\n",
    "# 0, 0 is self connection, remove.\n",
    "edges[0:20]"
   ]
  },
  {
   "cell_type": "markdown",
   "id": "00b35fad-f581-47d6-837a-7d784d39b5ec",
   "metadata": {},
   "source": [
    "Have to create both an MST and the complete graph. We have 2 options:\n",
    "1. using the weights of the complete graph to generate a layout and then only plotting the MST's edge connections (very computationally expensive)\n",
    "1. following the original paper implementation of using MST for both layout generation and plotting edge connections.\n",
    "\n",
    "When using `spring_connection` we have to invert the edge weights as the edge weights become spring attractive coefficients, whereas in other layouts such as `kamada_kawai` edge weights are used as cost functions."
   ]
  },
  {
   "cell_type": "code",
   "execution_count": 14,
   "id": "1792820c-8c02-494e-939f-7e47f0385b21",
   "metadata": {},
   "outputs": [
    {
     "data": {
      "text/plain": [
       "[(6, 32, 0.03125),\n",
       " (32, 6, 0.03125),\n",
       " (16, 74, 0.078125),\n",
       " (74, 16, 0.078125),\n",
       " (62, 69, 0.0859375),\n",
       " (69, 62, 0.0859375),\n",
       " (18, 40, 0.1171875),\n",
       " (40, 18, 0.1171875),\n",
       " (45, 87, 0.1484375),\n",
       " (87, 45, 0.1484375),\n",
       " (52, 66, 0.1796875),\n",
       " (66, 52, 0.1796875),\n",
       " (2, 86, 0.1953125),\n",
       " (86, 2, 0.1953125),\n",
       " (6, 31, 0.203125),\n",
       " (13, 56, 0.203125),\n",
       " (31, 6, 0.203125),\n",
       " (56, 13, 0.203125),\n",
       " (7, 99, 0.21875),\n",
       " (99, 7, 0.21875)]"
      ]
     },
     "execution_count": 14,
     "metadata": {},
     "output_type": "execute_result"
    }
   ],
   "source": [
    "edges.sort(key=lambda x:x[2])\n",
    "edges[0:20]"
   ]
  },
  {
   "cell_type": "code",
   "execution_count": 68,
   "id": "747425b7-c508-4c8d-bbc4-955cc3af096c",
   "metadata": {},
   "outputs": [],
   "source": [
    "def find_par(i):\n",
    "    if par[i] == i:\n",
    "        return i\n",
    "    par[i] = find_par(par[i])\n",
    "    return par[i]"
   ]
  },
  {
   "cell_type": "code",
   "execution_count": 67,
   "id": "64b4b4f7-ed86-4437-9dd0-2f5ad419a32d",
   "metadata": {},
   "outputs": [],
   "source": [
    "def join(x, y):\n",
    "    x = find_par(x)\n",
    "    y = find_par(y)\n",
    "    if x == y:\n",
    "        return\n",
    "    if rnk[x] < rnk[y]:\n",
    "        par[x] = y\n",
    "    else:\n",
    "        par[y] = x\n",
    "    if rnk[x] == rnk[y]:\n",
    "        rnk[x] += 1"
   ]
  },
  {
   "cell_type": "code",
   "execution_count": 159,
   "id": "a74b56cd-a054-4f48-9624-1304d2947272",
   "metadata": {
    "tags": []
   },
   "outputs": [
    {
     "data": {
      "text/plain": [
       "EdgeDataView([(6, 32, 0.96875), (6, 31, 0.796875), (6, 9, 0.6953125), (32, 38, 0.65625), (16, 74, 0.921875), (16, 64, 0.6484375), (74, 86, 0.71875), (74, 58, 0.65625), (74, 54, 0.53125), (62, 69, 0.9140625), (62, 67, 0.7578125), (62, 95, 0.6015625), (18, 40, 0.8828125), (18, 79, 0.5), (40, 88, 0.5703125), (45, 87, 0.8515625), (45, 0, 0.71875), (45, 71, 0.640625), (45, 42, 0.6015625), (45, 28, 0.40625), (87, 13, 0.703125), (87, 51, 0.578125), (52, 66, 0.8203125), (52, 22, 0.5), (66, 15, 0.5390625), (66, 5, 0.5078125), (2, 86, 0.8046875), (2, 65, 0.390625), (86, 61, 0.65625), (13, 56, 0.796875), (56, 99, 0.671875), (7, 99, 0.78125), (99, 46, 0.625), (8, 84, 0.7734375), (8, 57, 0.4609375), (84, 34, 0.625), (84, 30, 0.4609375), (11, 98, 0.765625), (11, 64, 0.6796875), (67, 73, 0.6875), (49, 55, 0.75), (49, 23, 0.4921875), (55, 20, 0.4609375), (46, 61, 0.7421875), (46, 76, 0.609375), (61, 43, 0.6015625), (60, 64, 0.7265625), (64, 41, 0.6953125), (3, 93, 0.703125), (3, 58, 0.578125), (3, 83, 0.546875), (3, 89, 0.5234375), (93, 90, 0.59375), (93, 25, 0.578125), (78, 95, 0.703125), (78, 68, 0.6484375), (78, 72, 0.6328125), (95, 54, 0.5078125), (4, 76, 0.6953125), (4, 33, 0.609375), (4, 63, 0.46875), (9, 54, 0.515625), (29, 85, 0.6953125), (29, 5, 0.5546875), (41, 35, 0.6171875), (41, 53, 0.53125), (33, 75, 0.6875), (75, 47, 0.625), (17, 26, 0.6796875), (17, 44, 0.5859375), (26, 91, 0.5546875), (26, 21, 0.5390625), (20, 37, 0.6640625), (37, 96, 0.6328125), (37, 15, 0.5859375), (39, 68, 0.65625), (35, 88, 0.6484375), (48, 57, 0.6484375), (48, 36, 0.578125), (57, 92, 0.5859375), (71, 82, 0.578125), (19, 28, 0.6328125), (22, 51, 0.625), (34, 81, 0.5078125), (43, 36, 0.453125), (44, 70, 0.3203125), (36, 12, 0.5390625), (5, 80, 0.4765625), (83, 50, 0.4453125), (21, 89, 0.5), (77, 97, 0.515625), (97, 79, 0.5), (1, 10, 0.5078125), (1, 81, 0.484375), (1, 27, 0.46875), (10, 24, 0.46875), (14, 79, 0.5078125), (24, 59, 0.4921875), (27, 94, 0.4921875)])"
      ]
     },
     "execution_count": 159,
     "metadata": {},
     "output_type": "execute_result"
    }
   ],
   "source": [
    "par = [i for i in range(0, n+1)]\n",
    "rnk = [0 for i in range(0, n+1)]\n",
    "\n",
    "g_mst = nx.Graph()\n",
    "for edge in edges:\n",
    "    x = edge[0]\n",
    "    y = edge[1]\n",
    "    \n",
    "    if find_par(x) != find_par(y):\n",
    "        # append edge to the mst\n",
    "        g_mst.add_edge(edge[0], edge[1], weight=(1-edge[2]))\n",
    "        g_mst.nodes[edge[0]][\"title\"] = f\"{edge[0]}\"\n",
    "        join(x, y)\n",
    "        \n",
    "g_mst.edges.data(\"weight\")"
   ]
  },
  {
   "cell_type": "code",
   "execution_count": 160,
   "id": "275afda6-2fff-48fa-b036-3db8bc35021e",
   "metadata": {
    "tags": []
   },
   "outputs": [],
   "source": [
    "g = nx.Graph()\n",
    "g.add_weighted_edges_from([(i[0], i[1], 1-i[2]) for i in edges])\n",
    "#g.add_weighted_edges_from(edges)"
   ]
  },
  {
   "cell_type": "markdown",
   "id": "efd85838-5dd4-4dde-954c-56ae15f2623f",
   "metadata": {},
   "source": [
    "# Custom class"
   ]
  },
  {
   "cell_type": "markdown",
   "id": "612cc3fc-57d7-4171-adb2-a68627c4a190",
   "metadata": {},
   "source": [
    "Create a custom class to deal with visualisations. Should be able to initialise from a model's fixed embeddings. Then in the init function construct a minhash encoder and lsh forest (with a seed), and then using the lsh forest create an initial MST use the networkx layouts to find the x, y positions, then use those as anchor points. Should then be able to take in inputs of learned embeddings with another function, and then using `query linear scan` find the closest neighbours of all the passed in learned embeddings, from there add the points to the MST, either without trying to form another MST (just leave knn connections) or find a locally optimal MST solution. Output graphs should ideally be pyvis networks as they allow for interactive visualisations."
   ]
  },
  {
   "cell_type": "code",
   "execution_count": 5,
   "id": "e10928b6-d942-41d6-941b-78bd3d081c84",
   "metadata": {},
   "outputs": [],
   "source": [
    "class vis():    \n",
    "    def __init__(self, fixed_embeddings, dims:int=512, load_path:str=None, save_path:str=r\"visualisations/vis_lf_fixed.dat\", seed:int=69, verbose:bool=True):\n",
    "        if verbose: print(\"seeding...\")\n",
    "        self.seed = seed\n",
    "        np.random.seed(self.seed)\n",
    "        \n",
    "        self.fixed_embeddings = fixed_embeddings\n",
    "        self.enc = tm.Minhash(self.fixed_embeddings.size(dim=1), seed=self.seed, sample_size=dims)\n",
    "        self.lf = tm.LSHForest(dims * 2, 128)\n",
    "        \n",
    "        # init the LSHForest\n",
    "        if load_path is None:\n",
    "            tmp = []\n",
    "            if verbose: print(\"batch add and indexing...\")\n",
    "            for i in fixed_embeddings:\n",
    "                tmp.append(tm.VectorFloat(i.tolist()))\n",
    "            self.lf.batch_add(self.enc.batch_from_weight_array(tmp))\n",
    "            self.lf.index()\n",
    "            self.lf.store(save_path)\n",
    "        else:\n",
    "            if verbose: print(f\"loading from {load_path}...\")\n",
    "            self.lf.restore(load_path)\n",
    "            \n",
    "        # Construct the k-nearest neighbour graph\n",
    "        if verbose: print(\"Getting KNN graph...\")\n",
    "        knng_from = tm.VectorUint()\n",
    "        knng_to = tm.VectorUint()\n",
    "        knng_weight = tm.VectorFloat()\n",
    "        _ = self.lf.get_knn_graph(knng_from, knng_to, knng_weight, 10)        \n",
    "\n",
    "        # find the MST of the knn graph\n",
    "        if verbose: print(\"Finding MST...\")\n",
    "        self.g_mst = self.create_mst([i for i in zip(knng_from, knng_to, knng_weight) if i[0] != i[1]])\n",
    "\n",
    "        # find x, y positions of the fixed embeddings layout\n",
    "        if verbose: print(\"Generating layout...\")\n",
    "        self.pos = nx.nx_agraph.graphviz_layout(self.g_mst, prog=\"sfdp\")\n",
    "        self.fixed = list(self.pos.keys())\n",
    "    \n",
    "    def graph_learned_embeddings(self, learned_embeddings):\n",
    "        # create deepcopy of g_mst\n",
    "        g = nx.Graph(self.g_mst)\n",
    "        # index to begin from (since indexes are 0 indexed we start from len)\n",
    "        index = len(self.g_mst)\n",
    "        for i in learned_embeddings:\n",
    "            query_hash = self.enc.from_weight_array(tm.VectorFloat(i.tolist()))\n",
    "            # query_linear_scan returns list of tuples(weight, neighbour). invert the weights because spring layout.\n",
    "            scan = self.lf.query_linear_scan(query_hash, 1)[0]\n",
    "            g.add_edge(index, scan[1], weight=1-scan[0])\n",
    "            index += 1\n",
    "        \n",
    "        return g\n",
    "            \n",
    "    # kruskals algorithm for finding MST\n",
    "    def create_mst(self, edgelist):\n",
    "        self.par = [i for i in range(0, self.fixed_embeddings.size(dim=0)+1)]\n",
    "        self.rnk = [0 for i in range(0, self.fixed_embeddings.size(dim=0)+1)]\n",
    "        edges = sorted(edgelist, key=lambda x:x[2])\n",
    "        g_mst = nx.Graph()\n",
    "\n",
    "        for edge in edges:\n",
    "            x = edge[0]\n",
    "            y = edge[1]\n",
    "\n",
    "            if self._find_par(x) != self._find_par(y):\n",
    "                # append edge to the mst. invert the weights because spring layout.\n",
    "                g_mst.add_edge(edge[0], edge[1], weight=edge[2])\n",
    "                g_mst.nodes[edge[0]][\"title\"] = f\"{edge[0]}\"\n",
    "                self._join(x, y)\n",
    "\n",
    "        return g_mst\n",
    "    \n",
    "    def _find_par(self, i):\n",
    "        if self.par[i] == i:\n",
    "            return i\n",
    "        self.par[i] = self._find_par(self.par[i])\n",
    "        return self.par[i]\n",
    "\n",
    "    def _join(self, x, y):\n",
    "        x = self._find_par(x)\n",
    "        y = self._find_par(y)\n",
    "        if x == y:\n",
    "            return\n",
    "        if self.rnk[x] < self.rnk[y]:\n",
    "            self.par[x] = y\n",
    "        else:\n",
    "            self.par[y] = x\n",
    "        if self.rnk[x] == self.rnk[y]:\n",
    "            self.rnk[x] += 1"
   ]
  },
  {
   "cell_type": "code",
   "execution_count": 6,
   "id": "03d37478-1feb-46ec-b44a-2eaf3039a0cc",
   "metadata": {},
   "outputs": [
    {
     "name": "stdout",
     "output_type": "stream",
     "text": [
      "seeding...\n",
      "loading from visualisations/vis_lf_fixed.dat...\n",
      "Getting KNN graph...\n",
      "Finding MST...\n",
      "Generating layout...\n"
     ]
    },
    {
     "name": "stderr",
     "output_type": "stream",
     "text": [
      "C:\\Users\\weipy\\anaconda3\\envs\\OPT\\lib\\site-packages\\pygraphviz\\agraph.py:1402: RuntimeWarning: Error: remove_overlap: Graphviz not built with triangulation library\n",
      "\n",
      "  warnings.warn(b\"\".join(errors).decode(self.encoding), RuntimeWarning)\n"
     ]
    }
   ],
   "source": [
    "visualisation = vis(original_embeddings, load_path=r\"visualisations/vis_lf_fixed.dat\")"
   ]
  },
  {
   "cell_type": "code",
   "execution_count": 23,
   "id": "65b5cbfa-5b4e-410d-ac69-9f0255e1e0b7",
   "metadata": {},
   "outputs": [
    {
     "data": {
      "text/plain": [
       "(50383, 50272)"
      ]
     },
     "execution_count": 23,
     "metadata": {},
     "output_type": "execute_result"
    }
   ],
   "source": [
    "g = visualisation.graph_learned_embeddings(learned_embeddings_111)\n",
    "pos = nx.spring_layout(g, fixed=visualisation.g_mst.nodes, pos=visualisation.pos, k=0.0015)\n",
    "len(g.nodes), len(visualisation.g_mst.nodes)"
   ]
  },
  {
   "cell_type": "code",
   "execution_count": 24,
   "id": "c34f2cf4-69f2-431a-87aa-befd432e09a8",
   "metadata": {
    "tags": []
   },
   "outputs": [],
   "source": [
    "mapping = {v: re.sub(r'(\\\\xc4|\\\\xa0)|[\\'\\\"\\\\]', '', repr(k.encode(\"utf-8\"))[2:-1]) for k, v in tokenizer.get_vocab().items()}\n",
    "\n",
    "for n, p in pos.items():\n",
    "    g.nodes[n]['x'] = float(p[0])\n",
    "    g.nodes[n]['y'] = float(p[1])\n",
    "    # there are some unreachable tokens as the tokenizer's vocab size does not match that of the config\n",
    "    g.nodes[n]['title'] = mapping[n] if n < len(tokenizer) else f\"learned embedding {n-len(visualisation.g_mst.nodes)}\"\n",
    "    # denote learned vs fixed embeddings\n",
    "    g.nodes[n]['type'] = 'L' if n >= len(visualisation.g_mst.nodes) else 'F'"
   ]
  },
  {
   "cell_type": "code",
   "execution_count": 25,
   "id": "b876e78c-732b-4943-a170-741dbeb792d1",
   "metadata": {
    "tags": []
   },
   "outputs": [
    {
     "data": {
      "text/html": [
       "\n",
       "            <iframe id=\"03dd9693-9fa7-4e33-8760-0711ba3e0ba3\" src=\"https://hub.graphistry.com/graph/graph.html?dataset=651584e8ac6f498795a61c21f335c9ea&type=arrow&viztoken=b1bccbd3-27e8-402a-9644-a71e8df49349&usertag=724ee53a-pygraphistry-0.25.2&splashAfter=1655282248&info=True&play=0&menu=True&showArrows=False&pointSize=0.09&edgeCurvature=0.01&edgeSize=1.0&edgeOpacity=0.5&pointOpacity=0.9&lockedX=True&lockedY=True&lockedR=False&linLog=False&strongGravity=False&dissuadeHubs=False&edgeInfluence=1.0&precisionVsSpeed=1.0&gravity=1.0&scalingRatio=1.0&showLabels=True&showLabelOnHover=True&showPointsOfInterest=False&showPointsOfInterestLabel=False&showLabelPropertiesOnHover=True&pointsOfInterestMax=0\"\n",
       "                    allowfullscreen=\"true\" webkitallowfullscreen=\"true\" mozallowfullscreen=\"true\"\n",
       "                    oallowfullscreen=\"true\" msallowfullscreen=\"true\"\n",
       "                    style=\"width:100%; height:500px; border: 1px solid #DDD; overflow: hidden\"\n",
       "                    \n",
       "            >\n",
       "            </iframe>\n",
       "        \n",
       "            <script>\n",
       "                try {\n",
       "                  $(\"#03dd9693-9fa7-4e33-8760-0711ba3e0ba3\").bind('mousewheel', function(e) { e.preventDefault(); });\n",
       "                } catch (e) { console.error('exn catching scroll', e); }\n",
       "            </script>\n",
       "        "
      ],
      "text/plain": [
       "<IPython.core.display.HTML object>"
      ]
     },
     "execution_count": 25,
     "metadata": {},
     "output_type": "execute_result"
    }
   ],
   "source": [
    "graph = graphistry.bind(source='src', destination='dst', node='nodeid', point_x=\"x\", point_y=\"y\", point_title=\"title\")\n",
    "graph = graph.encode_point_color('type', categorical_mapping={'F': '#ff9999', 'L': '#99F'}, default_mapping='silver')\n",
    "graph = graph.encode_point_size('type', categorical_mapping={'F': 1, 'L': 1}, default_mapping=1)\n",
    "graph = graph.encode_point_icon('type', categorical_mapping={'F': 1, 'L': 1}, default_mapping=1)\n",
    "graph = graph.settings(url_params={\n",
    "      'play': 0,\n",
    "      'menu': True, 'info': True,\n",
    "      'showArrows': False,\n",
    "      'pointSize': 0.09, 'edgeCurvature': 0.01, 'edgeSize': 1.0,\n",
    "      'edgeOpacity': 0.5, 'pointOpacity': 0.9,\n",
    "      'lockedX': True, 'lockedY': True, 'lockedR': False,\n",
    "      'linLog': False, 'strongGravity': False, 'dissuadeHubs': False,\n",
    "      'edgeInfluence': 1.0, 'precisionVsSpeed': 1.0, 'gravity': 1.0, 'scalingRatio': 1.0,\n",
    "      'showLabels': True, 'showLabelOnHover': True,\n",
    "      'showPointsOfInterest': False, 'showPointsOfInterestLabel': False, 'showLabelPropertiesOnHover': True,\n",
    "      'pointsOfInterestMax': 0\n",
    "    })\n",
    "graph.plot(g)"
   ]
  },
  {
   "cell_type": "markdown",
   "id": "4d813500-eafd-4219-9bcc-c3c6680b014d",
   "metadata": {},
   "source": [
    "Try again with another learned embedding."
   ]
  },
  {
   "cell_type": "code",
   "execution_count": 16,
   "id": "f107e096-478f-42dc-85bb-80aff1577226",
   "metadata": {},
   "outputs": [
    {
     "data": {
      "text/plain": [
       "(50331, 50272)"
      ]
     },
     "execution_count": 16,
     "metadata": {},
     "output_type": "execute_result"
    }
   ],
   "source": [
    "g = visualisation.graph_learned_embeddings(learned_embeddings_59)\n",
    "pos = nx.spring_layout(g, fixed=visualisation.g_mst.nodes, pos=visualisation.pos, k=0.0015)\n",
    "len(g.nodes), len(visualisation.g_mst.nodes)"
   ]
  },
  {
   "cell_type": "code",
   "execution_count": 17,
   "id": "c1a0ad13-5163-43da-aef6-58a174262ee0",
   "metadata": {
    "tags": []
   },
   "outputs": [],
   "source": [
    "mapping = {v: re.sub(r'(\\\\xc4|\\\\xa0)|[\\'\\\"\\\\]', '', repr(k.encode(\"utf-8\"))[2:-1]) for k, v in tokenizer.get_vocab().items()}\n",
    "\n",
    "for n, p in pos.items():\n",
    "    g.nodes[n]['x'] = float(p[0])\n",
    "    g.nodes[n]['y'] = float(p[1])\n",
    "    # there are some unreachable tokens as the tokenizer's vocab size does not match that of the config\n",
    "    g.nodes[n]['title'] = mapping[n] if n < len(tokenizer) else f\"learned embedding {n-len(visualisation.g_mst.nodes)}\"\n",
    "    # denote learned vs fixed embeddings\n",
    "    g.nodes[n]['type'] = 'L' if n >= len(visualisation.g_mst.nodes) else 'F'"
   ]
  },
  {
   "cell_type": "code",
   "execution_count": 22,
   "id": "ae908d50-5ebb-42de-ba5b-a1b34a3e6e53",
   "metadata": {
    "tags": []
   },
   "outputs": [
    {
     "data": {
      "text/html": [
       "\n",
       "            <iframe id=\"05637c80-47c2-4d45-b287-c9c32f3407df\" src=\"https://hub.graphistry.com/graph/graph.html?dataset=3e1956712e974ca4b7e70ef4bf05b5d9&type=arrow&viztoken=62927f12-6988-4cb2-9cd3-2753440e6d18&usertag=724ee53a-pygraphistry-0.25.2&splashAfter=1655282101&info=True&play=0&menu=True&showArrows=False&pointSize=0.1&edgeCurvature=0.01&edgeSize=1.0&edgeOpacity=0.5&pointOpacity=0.9&lockedX=True&lockedY=True&lockedR=False&linLog=False&strongGravity=False&dissuadeHubs=False&edgeInfluence=1.0&precisionVsSpeed=1.0&gravity=1.0&scalingRatio=1.0&showLabels=True&showLabelOnHover=True&showPointsOfInterest=False&showPointsOfInterestLabel=False&showLabelPropertiesOnHover=True&pointsOfInterestMax=0\"\n",
       "                    allowfullscreen=\"true\" webkitallowfullscreen=\"true\" mozallowfullscreen=\"true\"\n",
       "                    oallowfullscreen=\"true\" msallowfullscreen=\"true\"\n",
       "                    style=\"width:100%; height:500px; border: 1px solid #DDD; overflow: hidden\"\n",
       "                    \n",
       "            >\n",
       "            </iframe>\n",
       "        \n",
       "            <script>\n",
       "                try {\n",
       "                  $(\"#05637c80-47c2-4d45-b287-c9c32f3407df\").bind('mousewheel', function(e) { e.preventDefault(); });\n",
       "                } catch (e) { console.error('exn catching scroll', e); }\n",
       "            </script>\n",
       "        "
      ],
      "text/plain": [
       "<IPython.core.display.HTML object>"
      ]
     },
     "execution_count": 22,
     "metadata": {},
     "output_type": "execute_result"
    }
   ],
   "source": [
    "graph = graphistry.bind(source='src', destination='dst', node='nodeid', point_x=\"x\", point_y=\"y\", point_title=\"title\")\n",
    "graph = graph.encode_point_color('type', categorical_mapping={'F': '#F99', 'L': '#99F'}, default_mapping='silver')\n",
    "graph = graph.encode_point_size('type', categorical_mapping={'F': 1, 'L': 1}, default_mapping=1)\n",
    "graph = graph.settings(url_params={\n",
    "      'play': 0,\n",
    "      'menu': True, 'info': True,\n",
    "      'showArrows': False,\n",
    "      'pointSize': 0.09, 'edgeCurvature': 0.01, 'edgeSize': 1.0,\n",
    "      'edgeOpacity': 0.5, 'pointOpacity': 0.9,\n",
    "      'lockedX': True, 'lockedY': True, 'lockedR': False,\n",
    "      'linLog': False, 'strongGravity': False, 'dissuadeHubs': False,\n",
    "      'edgeInfluence': 1.0, 'precisionVsSpeed': 1.0, 'gravity': 1.0, 'scalingRatio': 1.0,\n",
    "      'showLabels': True, 'showLabelOnHover': True,\n",
    "      'showPointsOfInterest': False, 'showPointsOfInterestLabel': False, 'showLabelPropertiesOnHover': True,\n",
    "      'pointsOfInterestMax': 0\n",
    "    })\n",
    "graph.plot(g)"
   ]
  }
 ],
 "metadata": {
  "kernelspec": {
   "display_name": "Python 3 (ipykernel)",
   "language": "python",
   "name": "python3"
  },
  "language_info": {
   "codemirror_mode": {
    "name": "ipython",
    "version": 3
   },
   "file_extension": ".py",
   "mimetype": "text/x-python",
   "name": "python",
   "nbconvert_exporter": "python",
   "pygments_lexer": "ipython3",
   "version": "3.10.4"
  }
 },
 "nbformat": 4,
 "nbformat_minor": 5
}
