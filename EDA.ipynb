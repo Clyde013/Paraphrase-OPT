{
 "cells": [
  {
   "cell_type": "code",
   "execution_count": 2,
   "id": "b7e011c3-5eb8-454e-b54e-24f5b96bf80c",
   "metadata": {},
   "outputs": [],
   "source": [
    "import tmap as tm\n",
    "import torch"
   ]
  },
  {
   "cell_type": "code",
   "execution_count": 3,
   "id": "28f64275-0ae2-4d62-a615-692c8844f1aa",
   "metadata": {},
   "outputs": [
    {
     "name": "stdout",
     "output_type": "stream",
     "text": [
      "0.26153844594955444\n",
      "0.11153846979141235\n",
      "0.32692307233810425\n"
     ]
    }
   ],
   "source": [
    "enc = tm.Minhash(d=50, seed=42, sample_size=130)\n",
    "\n",
    "mh_a = enc.from_weight_array(tm.VectorFloat([1, 1, 1, 1, 0, 1, 0, 1, 1, 0]))\n",
    "mh_b = enc.from_weight_array(tm.VectorFloat([1, 0, 1, 1, 0, 1, 1, 0, 1, 0]))\n",
    "mh_c = enc.from_weight_array(tm.VectorFloat([1, 0, 1, 1, 1, 1, 1, 0, 1, 0]))\n",
    "\n",
    "dist_a_b = enc.get_distance(mh_a, mh_b)\n",
    "dist_b_c = enc.get_distance(mh_b, mh_c)\n",
    "dist_a_c = enc.get_distance(mh_a, mh_c)\n",
    "\n",
    "print(dist_a_b)\n",
    "print(dist_b_c)\n",
    "print(dist_a_c)"
   ]
  },
  {
   "cell_type": "code",
   "execution_count": 4,
   "id": "b6d13a6b-0792-41d3-acdf-8d5a6dd6fceb",
   "metadata": {},
   "outputs": [
    {
     "data": {
      "text/plain": [
       "VectorUint[5, 1, 7, 1, 7, 1, 2, 0, 8, 0, 8, 1, 3, 0, 3, 1, 0, 1, 8, 1, 5, 0, 7, 0, 3, 1, 5, 1, 1, 1, 0, 1, 3, 1, 0, 0, 0, 1, 7, 1, 0, 1, 3, 1, 0, 1, 8, 1, 2, 0, 1, 1, 0, 1, 2, 0, 2, 1, 7, 1, 2, 1, 0, 0, 3, 1, 0, 1, 0, 1, 2, 0, 8, 1, 0, 1, 3, 1, 2, 2, 5, 1, 2, 0, 3, 1, 3, 0, 3, 1, 0, 1, 3, 1, 7, 0, 5, 1, 0, 1, 5, 1, 0, 1, 0, 1, 2, 0, 3, 0, 0, 1, 8, 1, 7, 0, 5, 1, 1, 1, 7, 0, 7, 0, 5, 1, 7, 1, 2, 1, 7, 0, 2, 1, 5, 1, 1, 1, 3, 0, 1, 0, 5, 0, 0, 1, 5, 1, 3, 2, 8, 1, 7, 0, 2, 2, 0, 0, 3, 0, 0, 1, 7, 0, 7, 1, 1, 0, 1, 0, 2, 1, 0, 1, 8, 0, 2, 1, 3, 0, 3, 1, 2, 1, 0, 0, 2, 1, 3, 1, 8, 0, 5, 0, 1, 1, 0, 0, 1, 0, 1, 1, 8, 1, 7, 1, 8, 1, 0, 1, 5, 1, 1, 1, 5, 1, 8, 1, 5, 0, 1, 0, 8, 1, 1, 1, 8, 1, 1, 1, 7, 1, 1, 1, 8, 0, 2, 1, 8, 1, 0, 1, 2, 1, 8, 0, 5, 1, 0, 0, 3, 0, 0, 1, 1, 1, 8, 0, 5, 1]"
      ]
     },
     "execution_count": 4,
     "metadata": {},
     "output_type": "execute_result"
    }
   ],
   "source": [
    "mh_a"
   ]
  },
  {
   "cell_type": "code",
   "execution_count": 5,
   "id": "d26ac0e6-1d8a-4297-9bcd-1fcd880f15da",
   "metadata": {},
   "outputs": [
    {
     "data": {
      "text/plain": [
       "VectorUint[5, 1, 5, 1, 0, 1, 2, 0, 8, 0, 8, 1, 3, 0, 3, 1, 6, 0, 6, 1, 5, 0, 6, 0, 3, 1, 5, 1, 8, 1, 0, 1, 3, 1, 6, 1, 0, 1, 6, 1, 0, 1, 3, 1, 0, 1, 8, 1, 2, 0, 6, 1, 0, 1, 2, 0, 2, 1, 5, 3, 2, 1, 0, 0, 3, 1, 0, 1, 6, 1, 2, 0, 8, 1, 0, 1, 3, 1, 2, 2, 5, 1, 2, 0, 3, 1, 3, 0, 3, 1, 0, 1, 3, 1, 5, 1, 5, 1, 0, 1, 5, 1, 0, 1, 0, 1, 2, 0, 3, 0, 0, 1, 6, 1, 8, 0, 5, 1, 5, 1, 2, 0, 3, 0, 5, 1, 5, 1, 2, 1, 0, 1, 2, 1, 6, 1, 8, 1, 3, 0, 3, 0, 5, 0, 0, 1, 5, 1, 3, 2, 6, 1, 8, 0, 2, 2, 0, 0, 6, 0, 6, 1, 5, 0, 6, 1, 0, 1, 6, 1, 2, 1, 0, 1, 6, 1, 6, 1, 3, 0, 3, 1, 2, 1, 0, 0, 2, 1, 3, 1, 6, 0, 5, 0, 6, 1, 0, 0, 2, 1, 6, 1, 6, 1, 3, 1, 6, 1, 0, 1, 5, 1, 2, 1, 6, 1, 8, 1, 5, 0, 3, 1, 6, 1, 6, 2, 8, 1, 0, 1, 2, 0, 3, 1, 8, 0, 2, 1, 8, 1, 0, 1, 2, 1, 6, 1, 5, 1, 0, 0, 6, 2, 6, 0, 2, 0, 6, 0, 5, 1]"
      ]
     },
     "execution_count": 5,
     "metadata": {},
     "output_type": "execute_result"
    }
   ],
   "source": [
    "mh_b"
   ]
  },
  {
   "cell_type": "code",
   "execution_count": 6,
   "id": "34f41446-2f96-4198-b2de-f334c21a967b",
   "metadata": {},
   "outputs": [
    {
     "data": {
      "text/plain": [
       "260"
      ]
     },
     "execution_count": 6,
     "metadata": {},
     "output_type": "execute_result"
    }
   ],
   "source": [
    "len(mh_a)"
   ]
  }
 ],
 "metadata": {
  "kernelspec": {
   "display_name": "Python 3 (ipykernel)",
   "language": "python",
   "name": "python3"
  },
  "language_info": {
   "codemirror_mode": {
    "name": "ipython",
    "version": 3
   },
   "file_extension": ".py",
   "mimetype": "text/x-python",
   "name": "python",
   "nbconvert_exporter": "python",
   "pygments_lexer": "ipython3",
   "version": "3.10.4"
  }
 },
 "nbformat": 4,
 "nbformat_minor": 5
}
