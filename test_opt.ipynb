{
 "cells": [
  {
   "cell_type": "code",
   "execution_count": 1,
   "id": "3afb83a6-cfd5-4a7b-82d6-d7a937575e53",
   "metadata": {},
   "outputs": [],
   "source": [
    "from transformers import AutoTokenizer, AutoModelForCausalLM"
   ]
  },
  {
   "cell_type": "code",
   "execution_count": 2,
   "id": "91abd8f8-14fd-4c52-b258-2695a94a6efd",
   "metadata": {},
   "outputs": [],
   "source": [
    "model_name = \"facebook/opt-350m\""
   ]
  },
  {
   "cell_type": "code",
   "execution_count": 10,
   "id": "0b854f6d-088c-4965-8e9c-cd08ed8f9b2c",
   "metadata": {},
   "outputs": [],
   "source": [
    "tokenizer = AutoTokenizer.from_pretrained(model_name, use_fast=False)\n",
    "model = AutoModelForCausalLM.from_pretrained(model_name)"
   ]
  },
  {
   "cell_type": "code",
   "execution_count": 11,
   "id": "8bb10243-0943-4036-9fa0-3c68dc70fcae",
   "metadata": {},
   "outputs": [
    {
     "data": {
      "text/plain": [
       "{'input_ids': tensor([[    2, 11475,     6,    10,   333,     9, 38072,    21, 25783,   198,\n",
       "             5,  6693,    11,  1707,     9,   514,     4,  2884,  8258, 34338,\n",
       "            35]]), 'attention_mask': tensor([[1, 1, 1, 1, 1, 1, 1, 1, 1, 1, 1, 1, 1, 1, 1, 1, 1, 1, 1, 1, 1]])}"
      ]
     },
     "execution_count": 11,
     "metadata": {},
     "output_type": "execute_result"
    }
   ],
   "source": [
    "encoded = tokenizer(\"Once, a group of frogs was roaming around the forest in search of water. Paraphrase:\", return_tensors=\"pt\")\n",
    "encoded"
   ]
  },
  {
   "cell_type": "code",
   "execution_count": 16,
   "id": "12d8efaf-45ff-4ed2-84b2-d79f609d8bd1",
   "metadata": {},
   "outputs": [
    {
     "data": {
      "text/plain": [
       "tensor([[    2, 11475,     6,    10,   333,     9, 38072,    21, 25783,   198,\n",
       "             5,  6693,    11,  1707,     9,   514,     4,  2884,  8258, 34338,\n",
       "            35,    22,   100,   437, 37762,    72, 50118, 50118,   133,   333,\n",
       "             9, 38072,    21,    98, 37762,    14,    51,    58,  3276,     7,\n",
       "           465,   514,     4, 50118, 50118,   133,   333,     9, 38072,    21]])"
      ]
     },
     "execution_count": 16,
     "metadata": {},
     "output_type": "execute_result"
    }
   ],
   "source": [
    "outputs = model.generate(encoded.input_ids, max_length=50)\n",
    "outputs"
   ]
  },
  {
   "cell_type": "code",
   "execution_count": 23,
   "id": "5d728bdd-4dc9-4d76-b454-d2e277f309dc",
   "metadata": {},
   "outputs": [
    {
     "data": {
      "text/plain": [
       "'</s>Once, a group of frogs was roaming around the forest in search of water. Paraphrase: \"I\\'m thirsty.\"\\n\\nThe group of frogs was so thirsty that they were unable to find water.\\n\\nThe group of frogs was'"
      ]
     },
     "execution_count": 23,
     "metadata": {},
     "output_type": "execute_result"
    }
   ],
   "source": [
    "tokenizer.batch_decode(outputs, skip_special_tokens=False, clean_up_tokenization_spaces=False)[0]"
   ]
  },
  {
   "cell_type": "code",
   "execution_count": 25,
   "id": "77551457-39c2-4fae-bb35-691dc45b98f2",
   "metadata": {},
   "outputs": [
    {
     "data": {
      "text/plain": [
       "['</s>Once, a group of frogs was roaming around the forest in search of water. Paraphrase:']"
      ]
     },
     "execution_count": 25,
     "metadata": {},
     "output_type": "execute_result"
    }
   ],
   "source": [
    "tokenizer.batch_decode(encoded['input_ids'], skip_special_tokens=False)"
   ]
  },
  {
   "cell_type": "code",
   "execution_count": 28,
   "id": "6d6ab681-62ec-4a14-84fa-dd6fd25f1efd",
   "metadata": {},
   "outputs": [
    {
     "data": {
      "text/plain": [
       "{'bos_token': '</s>',\n",
       " 'eos_token': '</s>',\n",
       " 'unk_token': '</s>',\n",
       " 'pad_token': '<pad>'}"
      ]
     },
     "execution_count": 28,
     "metadata": {},
     "output_type": "execute_result"
    }
   ],
   "source": [
    "tokenizer.special_tokens_map"
   ]
  }
 ],
 "metadata": {
  "kernelspec": {
   "display_name": "Python 3 (ipykernel)",
   "language": "python",
   "name": "python3"
  },
  "language_info": {
   "codemirror_mode": {
    "name": "ipython",
    "version": 3
   },
   "file_extension": ".py",
   "mimetype": "text/x-python",
   "name": "python",
   "nbconvert_exporter": "python",
   "pygments_lexer": "ipython3",
   "version": "3.10.4"
  }
 },
 "nbformat": 4,
 "nbformat_minor": 5
}
