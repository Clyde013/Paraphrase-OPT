{
 "cells": [
  {
   "cell_type": "code",
   "execution_count": 2,
   "id": "ce5f4e17-2400-4b69-8933-e3234d70b104",
   "metadata": {
    "pycharm": {
     "name": "#%%\n"
    }
   },
   "outputs": [],
   "source": [
    "import pandas as pd"
   ]
  },
  {
   "cell_type": "code",
   "execution_count": 3,
   "id": "5777276a-0e78-4151-8fa0-c73f18c37af6",
   "metadata": {
    "pycharm": {
     "name": "#%%\n"
    }
   },
   "outputs": [
    {
     "name": "stderr",
     "output_type": "stream",
     "text": [
      "C:\\Users\\weipy\\AppData\\Local\\Temp\\ipykernel_1084\\3854627690.py:3: FutureWarning: Dropping of nuisance columns in DataFrame reductions (with 'numeric_only=None') is deprecated; in a future version this will raise TypeError.  Select only valid columns before calling the reduction.\n",
      "  df111.mean()\n"
     ]
    },
    {
     "data": {
      "text/plain": "bartscore             -2.157947\nbleuscore              0.342787\nrouge1_fmeasure        0.835004\nrouge1_precision       0.856809\nrouge1_recall          0.838207\nrouge2_fmeasure        0.737537\nrouge2_precision       0.756071\nrouge2_recall          0.743406\nrougeL_fmeasure        0.830460\nrougeL_precision       0.852231\nrougeL_recall          0.833340\nrougeLsum_fmeasure     0.830814\nrougeLsum_precision    0.852436\nrougeLsum_recall       0.833801\ndtype: float64"
     },
     "execution_count": 3,
     "metadata": {},
     "output_type": "execute_result"
    }
   ],
   "source": [
    "filepath = r\"metrics/benchmark_runs/model_benchmarked_results/1.3b-optimized-tokens=111-samples=500.pkl\"\n",
    "df111 = pd.read_pickle(filepath)\n",
    "df111.mean()"
   ]
  },
  {
   "cell_type": "code",
   "execution_count": 4,
   "id": "0a785aa1-1893-4a5b-bba6-781e284cea48",
   "metadata": {
    "pycharm": {
     "name": "#%%\n"
    }
   },
   "outputs": [
    {
     "name": "stderr",
     "output_type": "stream",
     "text": [
      "C:\\Users\\weipy\\AppData\\Local\\Temp\\ipykernel_1084\\3997160809.py:3: FutureWarning: Dropping of nuisance columns in DataFrame reductions (with 'numeric_only=None') is deprecated; in a future version this will raise TypeError.  Select only valid columns before calling the reduction.\n",
      "  df163.mean()\n"
     ]
    },
    {
     "data": {
      "text/plain": "bartscore             -2.193970\nbleuscore              0.316936\nrouge1_fmeasure        0.834778\nrouge1_precision       0.850439\nrouge1_recall          0.833884\nrouge2_fmeasure        0.721758\nrouge2_precision       0.734675\nrouge2_recall          0.722555\nrougeL_fmeasure        0.829546\nrougeL_precision       0.845049\nrougeL_recall          0.828588\nrougeLsum_fmeasure     0.829990\nrougeLsum_precision    0.845449\nrougeLsum_recall       0.829088\ndtype: float64"
     },
     "execution_count": 4,
     "metadata": {},
     "output_type": "execute_result"
    }
   ],
   "source": [
    "filepath = r\"metrics/benchmark_runs/model_benchmarked_results/1.3b-optimized-tokens=163-samples=500.pkl\"\n",
    "df163 = pd.read_pickle(filepath)\n",
    "df163.mean()"
   ]
  },
  {
   "cell_type": "code",
   "execution_count": 5,
   "id": "275fe94e-476a-436b-ac24-1c5eefac27c7",
   "metadata": {
    "pycharm": {
     "name": "#%%\n"
    }
   },
   "outputs": [
    {
     "name": "stderr",
     "output_type": "stream",
     "text": [
      "C:\\Users\\weipy\\AppData\\Local\\Temp\\ipykernel_1084\\525108569.py:3: FutureWarning: Dropping of nuisance columns in DataFrame reductions (with 'numeric_only=None') is deprecated; in a future version this will raise TypeError.  Select only valid columns before calling the reduction.\n",
      "  df_finetuned.mean()\n"
     ]
    },
    {
     "data": {
      "text/plain": "bartscore             -4.325089\nbleuscore              0.025170\nrouge1_fmeasure        0.315754\nrouge1_precision       0.304833\nrouge1_recall          0.374748\nrouge2_fmeasure        0.140419\nrouge2_precision       0.130611\nrouge2_recall          0.178818\nrougeL_fmeasure        0.300252\nrougeL_precision       0.288716\nrougeL_recall          0.358478\nrougeLsum_fmeasure     0.302298\nrougeLsum_precision    0.290669\nrougeLsum_recall       0.360918\ndtype: float64"
     },
     "execution_count": 5,
     "metadata": {},
     "output_type": "execute_result"
    }
   ],
   "source": [
    "filepath = r\"metrics/benchmark_runs/model_benchmarked_results/1.3b-fine-tuned-samples=500.pkl\"\n",
    "df_finetuned = pd.read_pickle(filepath)\n",
    "df_finetuned.mean()"
   ]
  },
  {
   "cell_type": "code",
   "execution_count": 6,
   "outputs": [
    {
     "name": "stderr",
     "output_type": "stream",
     "text": [
      "C:\\Users\\weipy\\AppData\\Local\\Temp\\ipykernel_1084\\1822944664.py:1: FutureWarning: Dropping of nuisance columns in DataFrame reductions (with 'numeric_only=None') is deprecated; in a future version this will raise TypeError.  Select only valid columns before calling the reduction.\n",
      "  pd.concat([df111.mean(), df163.mean(), df_finetuned.mean()], keys=['soft prompt 111 tokens', 'soft prompt 163 tokens', 'fine tuned'], axis=1)\n"
     ]
    },
    {
     "data": {
      "text/plain": "                     soft prompt 111 tokens  soft prompt 163 tokens  \\\nbartscore                         -2.157947               -2.193970   \nbleuscore                          0.342787                0.316936   \nrouge1_fmeasure                    0.835004                0.834778   \nrouge1_precision                   0.856809                0.850439   \nrouge1_recall                      0.838207                0.833884   \nrouge2_fmeasure                    0.737537                0.721758   \nrouge2_precision                   0.756071                0.734675   \nrouge2_recall                      0.743406                0.722555   \nrougeL_fmeasure                    0.830460                0.829546   \nrougeL_precision                   0.852231                0.845049   \nrougeL_recall                      0.833340                0.828588   \nrougeLsum_fmeasure                 0.830814                0.829990   \nrougeLsum_precision                0.852436                0.845449   \nrougeLsum_recall                   0.833801                0.829088   \n\n                     fine tuned  \nbartscore             -4.325089  \nbleuscore              0.025170  \nrouge1_fmeasure        0.315754  \nrouge1_precision       0.304833  \nrouge1_recall          0.374748  \nrouge2_fmeasure        0.140419  \nrouge2_precision       0.130611  \nrouge2_recall          0.178818  \nrougeL_fmeasure        0.300252  \nrougeL_precision       0.288716  \nrougeL_recall          0.358478  \nrougeLsum_fmeasure     0.302298  \nrougeLsum_precision    0.290669  \nrougeLsum_recall       0.360918  ",
      "text/html": "<div>\n<style scoped>\n    .dataframe tbody tr th:only-of-type {\n        vertical-align: middle;\n    }\n\n    .dataframe tbody tr th {\n        vertical-align: top;\n    }\n\n    .dataframe thead th {\n        text-align: right;\n    }\n</style>\n<table border=\"1\" class=\"dataframe\">\n  <thead>\n    <tr style=\"text-align: right;\">\n      <th></th>\n      <th>soft prompt 111 tokens</th>\n      <th>soft prompt 163 tokens</th>\n      <th>fine tuned</th>\n    </tr>\n  </thead>\n  <tbody>\n    <tr>\n      <th>bartscore</th>\n      <td>-2.157947</td>\n      <td>-2.193970</td>\n      <td>-4.325089</td>\n    </tr>\n    <tr>\n      <th>bleuscore</th>\n      <td>0.342787</td>\n      <td>0.316936</td>\n      <td>0.025170</td>\n    </tr>\n    <tr>\n      <th>rouge1_fmeasure</th>\n      <td>0.835004</td>\n      <td>0.834778</td>\n      <td>0.315754</td>\n    </tr>\n    <tr>\n      <th>rouge1_precision</th>\n      <td>0.856809</td>\n      <td>0.850439</td>\n      <td>0.304833</td>\n    </tr>\n    <tr>\n      <th>rouge1_recall</th>\n      <td>0.838207</td>\n      <td>0.833884</td>\n      <td>0.374748</td>\n    </tr>\n    <tr>\n      <th>rouge2_fmeasure</th>\n      <td>0.737537</td>\n      <td>0.721758</td>\n      <td>0.140419</td>\n    </tr>\n    <tr>\n      <th>rouge2_precision</th>\n      <td>0.756071</td>\n      <td>0.734675</td>\n      <td>0.130611</td>\n    </tr>\n    <tr>\n      <th>rouge2_recall</th>\n      <td>0.743406</td>\n      <td>0.722555</td>\n      <td>0.178818</td>\n    </tr>\n    <tr>\n      <th>rougeL_fmeasure</th>\n      <td>0.830460</td>\n      <td>0.829546</td>\n      <td>0.300252</td>\n    </tr>\n    <tr>\n      <th>rougeL_precision</th>\n      <td>0.852231</td>\n      <td>0.845049</td>\n      <td>0.288716</td>\n    </tr>\n    <tr>\n      <th>rougeL_recall</th>\n      <td>0.833340</td>\n      <td>0.828588</td>\n      <td>0.358478</td>\n    </tr>\n    <tr>\n      <th>rougeLsum_fmeasure</th>\n      <td>0.830814</td>\n      <td>0.829990</td>\n      <td>0.302298</td>\n    </tr>\n    <tr>\n      <th>rougeLsum_precision</th>\n      <td>0.852436</td>\n      <td>0.845449</td>\n      <td>0.290669</td>\n    </tr>\n    <tr>\n      <th>rougeLsum_recall</th>\n      <td>0.833801</td>\n      <td>0.829088</td>\n      <td>0.360918</td>\n    </tr>\n  </tbody>\n</table>\n</div>"
     },
     "execution_count": 6,
     "metadata": {},
     "output_type": "execute_result"
    }
   ],
   "source": [
    "pd.concat([df111.mean(), df163.mean(), df_finetuned.mean()], keys=['soft prompt 111 tokens', 'soft prompt 163 tokens', 'fine tuned'], axis=1)"
   ],
   "metadata": {
    "collapsed": false,
    "pycharm": {
     "name": "#%%\n"
    }
   }
  }
 ],
 "metadata": {
  "kernelspec": {
   "display_name": "Python 3 (ipykernel)",
   "language": "python",
   "name": "python3"
  },
  "language_info": {
   "codemirror_mode": {
    "name": "ipython",
    "version": 3
   },
   "file_extension": ".py",
   "mimetype": "text/x-python",
   "name": "python",
   "nbconvert_exporter": "python",
   "pygments_lexer": "ipython3",
   "version": "3.10.4"
  }
 },
 "nbformat": 4,
 "nbformat_minor": 5
}