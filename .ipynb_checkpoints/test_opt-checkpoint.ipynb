{
 "cells": [
  {
   "cell_type": "code",
   "execution_count": 1,
   "id": "3afb83a6-cfd5-4a7b-82d6-d7a937575e53",
   "metadata": {},
   "outputs": [
    {
     "name": "stderr",
     "output_type": "stream",
     "text": [
      "C:\\Users\\weipy\\anaconda3\\envs\\OPT\\lib\\site-packages\\tqdm\\auto.py:22: TqdmWarning: IProgress not found. Please update jupyter and ipywidgets. See https://ipywidgets.readthedocs.io/en/stable/user_install.html\n",
      "  from .autonotebook import tqdm as notebook_tqdm\n"
     ]
    }
   ],
   "source": [
    "from transformers import AutoTokenizer, AutoModelForCausalLM"
   ]
  },
  {
   "cell_type": "code",
   "execution_count": 3,
   "id": "91abd8f8-14fd-4c52-b258-2695a94a6efd",
   "metadata": {},
   "outputs": [],
   "source": [
    "model_name = \"facebook/opt-125m\""
   ]
  },
  {
   "cell_type": "code",
   "execution_count": 4,
   "id": "0b854f6d-088c-4965-8e9c-cd08ed8f9b2c",
   "metadata": {},
   "outputs": [
    {
     "name": "stderr",
     "output_type": "stream",
     "text": [
      "Downloading: 100%|█████████████████████████████████████████████████████████████████████| 721/721 [00:00<00:00, 359kB/s]\n",
      "Downloading: 100%|███████████████████████████████████████████████████████████████████| 878k/878k [00:01<00:00, 533kB/s]\n",
      "Downloading: 100%|███████████████████████████████████████████████████████████████████| 446k/446k [00:01<00:00, 361kB/s]\n",
      "Downloading: 100%|█████████████████████████████████████████████████████████████████████| 441/441 [00:00<00:00, 222kB/s]\n",
      "Downloading: 100%|█████████████████████████████████████████████████████████████████████| 611/611 [00:00<00:00, 611kB/s]\n",
      "Downloading: 100%|██████████████████████████████████████████████████████████████████| 239M/239M [00:04<00:00, 51.4MB/s]\n"
     ]
    }
   ],
   "source": [
    "tokenizer = AutoTokenizer.from_pretrained(model_name)\n",
    "model = AutoModelForCausalLM.from_pretrained(model_name)"
   ]
  },
  {
   "cell_type": "code",
   "execution_count": null,
   "id": "8bb10243-0943-4036-9fa0-3c68dc70fcae",
   "metadata": {},
   "outputs": [],
   "source": [
    "encoded = tokenizer(\"what the dog doing?\")\n",
    "encoded"
   ]
  },
  {
   "cell_type": "code",
   "execution_count": null,
   "id": "12d8efaf-45ff-4ed2-84b2-d79f609d8bd1",
   "metadata": {},
   "outputs": [],
   "source": [
    "outputs = model(**encoded)\n",
    "outputs"
   ]
  }
 ],
 "metadata": {
  "kernelspec": {
   "display_name": "Python 3 (ipykernel)",
   "language": "python",
   "name": "python3"
  },
  "language_info": {
   "codemirror_mode": {
    "name": "ipython",
    "version": 3
   },
   "file_extension": ".py",
   "mimetype": "text/x-python",
   "name": "python",
   "nbconvert_exporter": "python",
   "pygments_lexer": "ipython3",
   "version": "3.10.4"
  }
 },
 "nbformat": 4,
 "nbformat_minor": 5
}
