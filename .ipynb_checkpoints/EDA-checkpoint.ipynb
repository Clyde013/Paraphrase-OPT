{
 "cells": [
  {
   "cell_type": "code",
   "execution_count": 1,
   "id": "b7e011c3-5eb8-454e-b54e-24f5b96bf80c",
   "metadata": {},
   "outputs": [],
   "source": [
    "import tmap as tm\n",
    "import torch"
   ]
  },
  {
   "cell_type": "code",
   "execution_count": null,
   "id": "28f64275-0ae2-4d62-a615-692c8844f1aa",
   "metadata": {},
   "outputs": [],
   "source": [
    "enc = tm.Minhash(seed=42)\n",
    "\n",
    "mh_a = enc.from_weight_array(tm.VectorFloat([1, 1, 1, 1, 0, 1, 0, 1, 1, 0]))\n",
    "mh_b = enc.from_weight_array(tm.VectorFloat([1, 0, 1, 1, 0, 1, 1, 0, 1, 0]))\n",
    "mh_c = enc.from_weight_array(tm.VectorFloat([1, 0, 1, 1, 1, 1, 1, 0, 1, 0]))\n",
    "\n",
    "dist_a_b = enc.get_distance(mh_a, mh_b)\n",
    "dist_b_c = enc.get_distance(mh_b, mh_c)\n",
    "\n",
    "print(dist_a_b)\n",
    "print(dist_b_c)"
   ]
  }
 ],
 "metadata": {
  "kernelspec": {
   "display_name": "Python 3 (ipykernel)",
   "language": "python",
   "name": "python3"
  },
  "language_info": {
   "codemirror_mode": {
    "name": "ipython",
    "version": 3
   },
   "file_extension": ".py",
   "mimetype": "text/x-python",
   "name": "python",
   "nbconvert_exporter": "python",
   "pygments_lexer": "ipython3",
   "version": "3.10.4"
  }
 },
 "nbformat": 4,
 "nbformat_minor": 5
}
